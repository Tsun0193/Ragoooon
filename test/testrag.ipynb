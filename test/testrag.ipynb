{
 "cells": [
  {
   "cell_type": "code",
   "execution_count": 146,
   "metadata": {},
   "outputs": [
    {
     "name": "stdout",
     "output_type": "stream",
     "text": [
      "/\n"
     ]
    }
   ],
   "source": [
    "cd .."
   ]
  },
  {
   "cell_type": "code",
   "execution_count": 147,
   "metadata": {},
   "outputs": [],
   "source": [
    "import os\n",
    "\n",
    "from dotenv import load_dotenv\n",
    "from snowflake.snowpark.session import Session\n",
    "from snowflake.core import Root\n",
    "from snowflake.cortex import Complete\n",
    "from llama_index.core.llms import LLM\n",
    "from typing import Any, List, Dict, Callable, Union, Optional, Tuple\n",
    "from llama_index.core.llms import CompletionResponse, CompletionResponseGen\n",
    "from core.llm.CustomLLM import RagoonBot\n",
    "from core.preprocessing.HYDE.HyDETransform import HyDETransformer\n",
    "from core.preprocessing.MultiStep.MultiStepTransform import MultiStepTransformer\n",
    "from core.preprocessing.rerank.Reranker import Reranker\n",
    "#from geo.utils import *"
   ]
  },
  {
   "cell_type": "code",
   "execution_count": 148,
   "metadata": {},
   "outputs": [
    {
     "data": {
      "text/plain": [
       "'/'"
      ]
     },
     "execution_count": 148,
     "metadata": {},
     "output_type": "execute_result"
    }
   ],
   "source": [
    "pwd"
   ]
  },
  {
   "cell_type": "code",
   "execution_count": 149,
   "metadata": {},
   "outputs": [
    {
     "name": "stdout",
     "output_type": "stream",
     "text": [
      "RagoonBot initialized with model: mistral-large2\n"
     ]
    }
   ],
   "source": [
    "load_dotenv('../../.env')\n",
    "llm = RagoonBot()"
   ]
  },
  {
   "cell_type": "code",
   "execution_count": 150,
   "metadata": {},
   "outputs": [
    {
     "name": "stdout",
     "output_type": "stream",
     "text": [
      "{'account': 'pbwpsqr-bub27947', 'user': 'iai24ares3', 'password': 'IAI24.ares', 'role': 'ACCOUNTADMIN', 'database': 'RAGOOOON', 'schema': 'PUBLIC', 'warehouse': 'COMPUTE_WH', 'service': 'QUERY_DESTINATION'}\n"
     ]
    }
   ],
   "source": [
    "try:\n",
    "    connection_params = {\n",
    "        \"account\":  os.environ[\"SNOWFLAKE_ACCOUNT\"],\n",
    "        \"user\": os.environ[\"SNOWFLAKE_USER\"],\n",
    "        \"password\": os.environ[\"SNOWFLAKE_USER_PASSWORD\"],\n",
    "        \"role\": os.environ[\"SNOWFLAKE_ROLE\"],\n",
    "        \"database\": os.environ[\"SNOWFLAKE_DATABASE\"],\n",
    "        \"schema\": os.environ[\"SNOWFLAKE_SCHEMA\"],\n",
    "        \"warehouse\": os.environ[\"SNOWFLAKE_WAREHOUSE\"],\n",
    "        \"service\": os.environ[\"SNOWFLAKE_CORTEX_SEARCH_SERVICE\"],\n",
    "    }\n",
    "except KeyError as e:\n",
    "    print(\"Please set the environment variable: \" + str(e))\n",
    "\n",
    "print(connection_params)"
   ]
  },
  {
   "cell_type": "code",
   "execution_count": 151,
   "metadata": {},
   "outputs": [],
   "source": [
    "try:\n",
    "    snowpark_session = Session.builder.configs(connection_params).create()\n",
    "except Exception as e:\n",
    "    print(\"Error creating Snowpark session: \" + str(e))\n",
    "\n",
    "transforms = {\n",
    "    'HyDE': HyDETransformer(),\n",
    "    'MultiStep': MultiStepTransformer(),\n",
    "    'Rerank': Reranker(\"\")\n",
    "}"
   ]
  },
  {
   "cell_type": "code",
   "execution_count": 152,
   "metadata": {},
   "outputs": [],
   "source": [
    "from trulens.core import TruSession\n",
    "from trulens.connectors.snowflake import SnowflakeConnector\n",
    "\n",
    "from trulens.apps.custom import instrument\n",
    "\n",
    "tru_snowflake_connector = SnowflakeConnector(snowpark_session=snowpark_session)\n",
    "tru_session = TruSession(connector=tru_snowflake_connector)"
   ]
  },
  {
   "cell_type": "code",
   "execution_count": 153,
   "metadata": {},
   "outputs": [],
   "source": [
    "from trulens.providers.cortex.provider import Cortex\n",
    "from trulens.core import Feedback\n",
    "from trulens.core import Select\n",
    "import numpy as np\n",
    "\n",
    "provider = Cortex(snowpark_session, model_engine=\"llama3.1-8b\")\n",
    "\n",
    "f_groundedness = (\n",
    "    Feedback(provider.groundedness_measure_with_cot_reasons, name=\"Groundedness\")\n",
    "    .on(Select.RecordCalls.retrieve_context.rets[:].collect())\n",
    "    .on_output()\n",
    ")\n",
    "\n",
    "f_context_relevance = (\n",
    "    Feedback(provider.context_relevance, name=\"Context Relevance\")\n",
    "    .on_input()\n",
    "    .on(Select.RecordCalls.retrieve_context.rets[:])\n",
    "    .aggregate(np.mean)\n",
    ")\n",
    "\n",
    "f_answer_relevance = (\n",
    "    Feedback(provider.relevance, name=\"Answer Relevance\")\n",
    "    .on_input()\n",
    "    .on_output()\n",
    "    .aggregate(np.mean)\n",
    ")"
   ]
  },
  {
   "cell_type": "code",
   "execution_count": 165,
   "metadata": {},
   "outputs": [],
   "source": [
    "class Rag:\n",
    "    def __init__(\n",
    "        self, \n",
    "        llm: LLM = llm,\n",
    "        transformers: Union[str, List[str]] = [\"MultiStep\", \"HyDE\"],\n",
    "        snowpark_session: Session = snowpark_session,\n",
    "        limit_to_retrieve: int = 4,\n",
    "        snowflake_params: Dict[str, str] = connection_params,\n",
    "        search_columns: List[str] = [\"NAME\", \"INFORMATION\"],\n",
    "        retrieve_column: str = \"INFORMATION\"\n",
    "    ):\n",
    "        \"\"\"\n",
    "        Initialize the RAG instance.\n",
    "\n",
    "        TODO: param\n",
    "        \"\"\"\n",
    "        if isinstance(llm, str):\n",
    "            self.llm = RagoonBot(model=llm)\n",
    "        else:\n",
    "            self.llm = llm\n",
    "        \n",
    "        if isinstance(transformers, str):\n",
    "            self.transformers = [transformers]\n",
    "        else:\n",
    "            self.transformers = transformers\n",
    "\n",
    "        self._snowpark_session = snowpark_session\n",
    "        self._limit_to_retrieve = limit_to_retrieve\n",
    "        self.snowflake_params = snowflake_params\n",
    "        self.search_columns = search_columns\n",
    "        self.retrieve_column = retrieve_column\n",
    "\n",
    "    def controller(self, text: str, **kwargs: Any) -> bool:\n",
    "        # If the text is about basic information, return True\n",
    "        prompt = \"\"\"\n",
    "            Return True if the user query is about basic information or general knowledge.\n",
    "            Otherwise, return False.\n",
    "            Do not include any other information, just True or False.\n",
    "\n",
    "            User Query: {}\n",
    "        \"\"\"\n",
    "        response = self.llm.complete(prompt.format(text))\n",
    "        response = response.text\n",
    "        response = response.strip()\n",
    "        #assert response in [\"True\", \"False\"], f\"Invalid response from the controller: {response}\"\n",
    "        return response == \"True\"\n",
    "\n",
    "    @instrument\n",
    "    def retrieve(self, query: str) -> List[str]:\n",
    "        root = Root(self._snowpark_session)\n",
    "        cortex_search_service = (\n",
    "            root.databases[self.snowflake_params.get(\"database\")]\n",
    "            .schemas[self.snowflake_params.get(\"schema\")]\n",
    "            .cortex_search_services[self.snowflake_params.get(\"service\")]\n",
    "        )\n",
    "        resp = cortex_search_service.search(\n",
    "            query=query,\n",
    "            columns=self.search_columns,\n",
    "            limit=self._limit_to_retrieve,\n",
    "        )\n",
    "\n",
    "        if resp.results:\n",
    "            return [curr[self.retrieve_column] for curr in resp.results]\n",
    "        else:\n",
    "            return []\n",
    "    \n",
    "\n",
    "    @instrument\n",
    "    def generate_response(\n",
    "        self,\n",
    "        contexts: List[str] = [],\n",
    "        query: str = None,\n",
    "        history: Optional[List[dict]] = None,\n",
    "        **kwargs: Any\n",
    "    ):\n",
    "        assert query is not None, \"Query cannot be None.\"\n",
    "        if not contexts:\n",
    "            context = \"None\"\n",
    "\n",
    "        context = \"\\n\\n\".join(contexts)\n",
    "        # Combine history with the user prompt\n",
    "        # start with assistant introducing itself\n",
    "        history_text = \"Assistant: Hello, I am Ragoon, an assistant for tourism and travel tasks.\"\n",
    "        if history:\n",
    "            history_text += \"\\n\".join([f\"{entry['role']}: {entry['content']}\" for entry in history])\n",
    "\n",
    "        prompt = f\"\"\"\n",
    "            These are the messages between a user and an assistant:\n",
    "            {history_text}\n",
    "            Now, use the following pieces of retrieved context to complete the conversation by answering the user's question. \n",
    "            If you don't know the answer, say that you don't know. \n",
    "            Keep the answer concise.\n",
    "        \"\"\"\n",
    "        prompt += f\"\\n\\nContext: {context} \\n\\nQuery: {query}\"\n",
    "\n",
    "        response = self.llm.complete(prompt)\n",
    "        print(prompt)\n",
    "        return response\n",
    "\n",
    "    @instrument\n",
    "    def complete(\n",
    "        self,\n",
    "        prompts: Union[str, List[str]] = None,\n",
    "        history: Optional[List[dict]] = None,\n",
    "        **kwargs\n",
    "    ):\n",
    "        \"\"\"\n",
    "        Completes the prompt using the RAG model.\n",
    "\n",
    "        :param prompts: str. The prompts to complete.\n",
    "        :return: str. The completed prompts.\n",
    "        \"\"\"\n",
    "        assert prompts is not None, \"Prompt cannot be None.\"\n",
    "        \n",
    "        if isinstance(prompts, str):\n",
    "            _prompt = [[prompts]]\n",
    "            original_prompt = prompts\n",
    "\n",
    "        if isinstance(prompts, list):\n",
    "            _prompt = [prompts]\n",
    "            original_prompt = prompts[0]\n",
    "\n",
    "        # Reduce transforms for basic queries\n",
    "        if self.controller(original_prompt):\n",
    "            # No need for transformers\n",
    "            _prompt = [[original_prompt]]\n",
    "        else:\n",
    "            transforms[\"Rerank\"]._original_string = original_prompt\n",
    "            if self.transformers is not None:\n",
    "                for _transformer in self.transformers:\n",
    "                    prime = transforms.get(_transformer)\n",
    "                    _prompt = prime.transform(_prompt)\n",
    "\n",
    "        retrieved_contexts = []\n",
    "        for _p in _prompt:\n",
    "            retrieved_contexts.extend(self.retrieve(_p[0]))\n",
    "        \n",
    "        try:\n",
    "            response = self.generate_response(\n",
    "                contexts=retrieved_contexts,\n",
    "                query=original_prompt,\n",
    "                history=history\n",
    "            )\n",
    "        except Exception as e:\n",
    "            return f\"Error: {e}\"\n",
    "        \n",
    "        return response.text\n",
    "\n",
    "    def stream_complete(\n",
    "        self,\n",
    "        prompts: str,\n",
    "        history: Optional[List[dict]] = None,\n",
    "        **kwargs: Any\n",
    "    ) -> CompletionResponseGen:\n",
    "        \"\"\"\n",
    "        Generate a streamed completion for the given prompt.\n",
    "\n",
    "        :param prompt: The input text prompt.\n",
    "        :param history: Optional history of previous interactions.\n",
    "        :yield: Partial CompletionResponses as text is generated.\n",
    "        \"\"\"\n",
    "        try:\n",
    "            full_response = self.complete(prompts=prompts, history=history)\n",
    "        except Exception as e:\n",
    "            yield CompletionResponse(text=\"\", delta=f\"Error: {e}\")\n",
    "            return\n",
    "\n",
    "        accumulated_text = \"\"\n",
    "        for r in full_response:\n",
    "            accumulated_text += r\n",
    "            yield CompletionResponse(text=accumulated_text, delta=r)"
   ]
  },
  {
   "cell_type": "code",
   "execution_count": 166,
   "metadata": {},
   "outputs": [
    {
     "name": "stdout",
     "output_type": "stream",
     "text": [
      "\n",
      "            These are the messages between a user and an assistant:\n",
      "            Assistant: Hello, I am Ragoon, an assistant for tourism and travel tasks.\n",
      "            Now, use the following pieces of retrieved context to complete the conversation by answering the user's question. \n",
      "            If you don't know the answer, say that you don't know. \n",
      "            Keep the answer concise.\n",
      "        \n",
      "\n",
      "Context:  \n",
      "\n",
      "Query: Where should I eat in Hanoi?\n",
      "<class 'str'>\n"
     ]
    }
   ],
   "source": [
    "rag = Rag(\n",
    "        llm=llm\n",
    "    )\n",
    "    \n",
    "response = rag.complete(\"Where should I eat in Hanoi?\")\n",
    "print(type(response))\n"
   ]
  },
  {
   "cell_type": "code",
   "execution_count": null,
   "metadata": {},
   "outputs": [
    {
     "name": "stdout",
     "output_type": "stream",
     "text": [
      "instrumenting <class '__main__.Rag'> for base <class '__main__.Rag'>\n",
      "\tinstrumenting retrieve\n",
      "\tinstrumenting generate_response\n",
      "\tinstrumenting complete\n",
      "skipping base <class 'object'> because of class\n"
     ]
    },
    {
     "data": {
      "text/html": [
       "<pre style=\"white-space:pre;overflow-x:auto;line-height:normal;font-family:Menlo,'DejaVu Sans Mono',consolas,'Courier New',monospace\">┏━━━━━━━━━━━━━━━━━━━━━━━━━━━━━━━━━━━━━━━━━━━━━━━━━━━━━━━━━━━━━━━━━━━━━━━━━━━━━━━━━━━━━━━━━━━━━━━━━━━━━━━━━━━━━━━━━┓\n",
       "┃                                              <span style=\"font-weight: bold\">Selector check failed</span>                                              ┃\n",
       "┗━━━━━━━━━━━━━━━━━━━━━━━━━━━━━━━━━━━━━━━━━━━━━━━━━━━━━━━━━━━━━━━━━━━━━━━━━━━━━━━━━━━━━━━━━━━━━━━━━━━━━━━━━━━━━━━━━┛\n",
       "\n",
       "Source of argument <span style=\"color: #008080; text-decoration-color: #008080; background-color: #000000; font-weight: bold\">source</span> to <span style=\"color: #008080; text-decoration-color: #008080; background-color: #000000; font-weight: bold\">Groundedness</span> does not exist in app or expected record:                                \n",
       "\n",
       "<span style=\"background-color: #272822\">                                                                                                                   </span>\n",
       "<span style=\"background-color: #272822\"> </span><span style=\"color: #f8f8f2; text-decoration-color: #f8f8f2; background-color: #272822\">__record__</span><span style=\"color: #ff4689; text-decoration-color: #ff4689; background-color: #272822\">.</span><span style=\"color: #f8f8f2; text-decoration-color: #f8f8f2; background-color: #272822\">app</span><span style=\"color: #ff4689; text-decoration-color: #ff4689; background-color: #272822\">.</span><span style=\"color: #f8f8f2; text-decoration-color: #f8f8f2; background-color: #272822\">retrieve_context</span><span style=\"color: #ff4689; text-decoration-color: #ff4689; background-color: #272822\">.</span><span style=\"color: #f8f8f2; text-decoration-color: #f8f8f2; background-color: #272822\">rets[:]</span><span style=\"color: #ff4689; text-decoration-color: #ff4689; background-color: #272822\">.</span><span style=\"color: #f8f8f2; text-decoration-color: #f8f8f2; background-color: #272822\">collect()</span><span style=\"background-color: #272822\">                                                                 </span>\n",
       "<span style=\"background-color: #272822\"> </span><span style=\"color: #959077; text-decoration-color: #959077; background-color: #272822\"># or equivalently</span><span style=\"background-color: #272822\">                                                                                                 </span>\n",
       "<span style=\"background-color: #272822\"> </span><span style=\"color: #f8f8f2; text-decoration-color: #f8f8f2; background-color: #272822\">Select</span><span style=\"color: #ff4689; text-decoration-color: #ff4689; background-color: #272822\">.</span><span style=\"color: #f8f8f2; text-decoration-color: #f8f8f2; background-color: #272822\">RecordCalls</span><span style=\"color: #ff4689; text-decoration-color: #ff4689; background-color: #272822\">.</span><span style=\"color: #f8f8f2; text-decoration-color: #f8f8f2; background-color: #272822\">retrieve_context</span><span style=\"color: #ff4689; text-decoration-color: #ff4689; background-color: #272822\">.</span><span style=\"color: #f8f8f2; text-decoration-color: #f8f8f2; background-color: #272822\">rets[:]</span><span style=\"color: #ff4689; text-decoration-color: #ff4689; background-color: #272822\">.</span><span style=\"color: #f8f8f2; text-decoration-color: #f8f8f2; background-color: #272822\">collect()</span><span style=\"background-color: #272822\">                                                             </span>\n",
       "<span style=\"background-color: #272822\">                                                                                                                   </span>\n",
       "\n",
       "The data used to make this check may be incomplete. If you expect records produced by your app to contain the      \n",
       "selected content, you can ignore this error by setting <span style=\"color: #008080; text-decoration-color: #008080; background-color: #000000; font-weight: bold\">selectors_nocheck</span> in the <span style=\"color: #008080; text-decoration-color: #008080; background-color: #000000; font-weight: bold\">TruCustomApp</span> constructor.          \n",
       "Alternatively, setting <span style=\"color: #008080; text-decoration-color: #008080; background-color: #000000; font-weight: bold\">selectors_check_warning</span> will print out this message but will not raise an error.            \n",
       "\n",
       "\n",
       "                                              <span style=\"font-weight: bold; text-decoration: underline\">Additional information:</span>                                              \n",
       "\n",
       "Feedback function signature:                                                                                       \n",
       "\n",
       "<span style=\"background-color: #272822\">                                                                                                                   </span>\n",
       "<span style=\"background-color: #272822\"> </span><span style=\"color: #f8f8f2; text-decoration-color: #f8f8f2; background-color: #272822\">(source: str, statement: str, criteria: Optional[str] </span><span style=\"color: #ff4689; text-decoration-color: #ff4689; background-color: #272822\">=</span><span style=\"color: #f8f8f2; text-decoration-color: #f8f8f2; background-color: #272822\"> </span><span style=\"color: #66d9ef; text-decoration-color: #66d9ef; background-color: #272822\">None</span><span style=\"color: #f8f8f2; text-decoration-color: #f8f8f2; background-color: #272822\">, use_sent_tokenize: bool </span><span style=\"color: #ff4689; text-decoration-color: #ff4689; background-color: #272822\">=</span><span style=\"color: #f8f8f2; text-decoration-color: #f8f8f2; background-color: #272822\"> </span><span style=\"color: #66d9ef; text-decoration-color: #66d9ef; background-color: #272822\">True</span><span style=\"color: #f8f8f2; text-decoration-color: #f8f8f2; background-color: #272822\">, </span><span style=\"background-color: #272822\">                    </span>\n",
       "<span style=\"background-color: #272822\"> </span><span style=\"color: #f8f8f2; text-decoration-color: #f8f8f2; background-color: #272822\">filter_trivial_statements: bool </span><span style=\"color: #ff4689; text-decoration-color: #ff4689; background-color: #272822\">=</span><span style=\"color: #f8f8f2; text-decoration-color: #f8f8f2; background-color: #272822\"> </span><span style=\"color: #66d9ef; text-decoration-color: #66d9ef; background-color: #272822\">True</span><span style=\"color: #f8f8f2; text-decoration-color: #f8f8f2; background-color: #272822\">, min_score_val: int </span><span style=\"color: #ff4689; text-decoration-color: #ff4689; background-color: #272822\">=</span><span style=\"color: #f8f8f2; text-decoration-color: #f8f8f2; background-color: #272822\"> </span><span style=\"color: #ae81ff; text-decoration-color: #ae81ff; background-color: #272822\">0</span><span style=\"color: #f8f8f2; text-decoration-color: #f8f8f2; background-color: #272822\">, max_score_val: int </span><span style=\"color: #ff4689; text-decoration-color: #ff4689; background-color: #272822\">=</span><span style=\"color: #f8f8f2; text-decoration-color: #f8f8f2; background-color: #272822\"> </span><span style=\"color: #ae81ff; text-decoration-color: #ae81ff; background-color: #272822\">3</span><span style=\"color: #f8f8f2; text-decoration-color: #f8f8f2; background-color: #272822\">, temperature: float </span><span style=\"color: #ff4689; text-decoration-color: #ff4689; background-color: #272822\">=</span><span style=\"color: #f8f8f2; text-decoration-color: #f8f8f2; background-color: #272822\"> </span><span style=\"color: #ae81ff; text-decoration-color: #ae81ff; background-color: #272822\">0.0</span><span style=\"color: #f8f8f2; text-decoration-color: #f8f8f2; background-color: #272822\">)</span><span style=\"background-color: #272822\"> </span>\n",
       "<span style=\"background-color: #272822\"> </span><span style=\"color: #ff4689; text-decoration-color: #ff4689; background-color: #272822\">-&gt;</span><span style=\"color: #f8f8f2; text-decoration-color: #f8f8f2; background-color: #272822\"> Tuple[float, dict]</span><span style=\"background-color: #272822\">                                                                                             </span>\n",
       "<span style=\"background-color: #272822\">                                                                                                                   </span>\n",
       "\n",
       "The prefix <span style=\"color: #008080; text-decoration-color: #008080; background-color: #000000; font-weight: bold\">__record__.app</span> selects this data that exists in your app or typical records:                            \n",
       "\n",
       "<span style=\"color: #808000; text-decoration-color: #808000; font-weight: bold\"> • </span>Object of type <span style=\"color: #008080; text-decoration-color: #008080; background-color: #000000; font-weight: bold\">dict</span> starting with:                                                                              \n",
       "\n",
       "<span style=\"background-color: #272822\">                                                                                                                   </span>\n",
       "<span style=\"background-color: #272822\"> </span><span style=\"color: #f8f8f2; text-decoration-color: #f8f8f2; background-color: #272822\">      {</span><span style=\"background-color: #272822\">                                                                                                           </span>\n",
       "<span style=\"background-color: #272822\"> </span><span style=\"color: #f8f8f2; text-decoration-color: #f8f8f2; background-color: #272822\">        </span><span style=\"color: #e6db74; text-decoration-color: #e6db74; background-color: #272822\">'retrieve'</span><span style=\"color: #f8f8f2; text-decoration-color: #f8f8f2; background-color: #272822\">: [RecordAppCall(</span><span style=\"color: #ff4689; text-decoration-color: #ff4689; background-color: #272822\">...</span><span style=\"color: #f8f8f2; text-decoration-color: #f8f8f2; background-color: #272822\">)],</span><span style=\"background-color: #272822\">                                                                         </span>\n",
       "<span style=\"background-color: #272822\"> </span><span style=\"color: #f8f8f2; text-decoration-color: #f8f8f2; background-color: #272822\">        </span><span style=\"color: #e6db74; text-decoration-color: #e6db74; background-color: #272822\">'generate_response'</span><span style=\"color: #f8f8f2; text-decoration-color: #f8f8f2; background-color: #272822\">: [RecordAppCall(</span><span style=\"color: #ff4689; text-decoration-color: #ff4689; background-color: #272822\">...</span><span style=\"color: #f8f8f2; text-decoration-color: #f8f8f2; background-color: #272822\">)],</span><span style=\"background-color: #272822\">                                                                </span>\n",
       "<span style=\"background-color: #272822\"> </span><span style=\"color: #f8f8f2; text-decoration-color: #f8f8f2; background-color: #272822\">        </span><span style=\"color: #e6db74; text-decoration-color: #e6db74; background-color: #272822\">'complete'</span><span style=\"color: #f8f8f2; text-decoration-color: #f8f8f2; background-color: #272822\">: [RecordAppCall(</span><span style=\"color: #ff4689; text-decoration-color: #ff4689; background-color: #272822\">...</span><span style=\"color: #f8f8f2; text-decoration-color: #f8f8f2; background-color: #272822\">)]</span><span style=\"background-color: #272822\">                                                                          </span>\n",
       "<span style=\"background-color: #272822\"> </span><span style=\"color: #f8f8f2; text-decoration-color: #f8f8f2; background-color: #272822\">      }</span><span style=\"background-color: #272822\">                                                                                                           </span>\n",
       "<span style=\"background-color: #272822\">                                                                                                                   </span>\n",
       "</pre>\n"
      ],
      "text/plain": [
       "┏━━━━━━━━━━━━━━━━━━━━━━━━━━━━━━━━━━━━━━━━━━━━━━━━━━━━━━━━━━━━━━━━━━━━━━━━━━━━━━━━━━━━━━━━━━━━━━━━━━━━━━━━━━━━━━━━━┓\n",
       "┃                                              \u001b[1mSelector check failed\u001b[0m                                              ┃\n",
       "┗━━━━━━━━━━━━━━━━━━━━━━━━━━━━━━━━━━━━━━━━━━━━━━━━━━━━━━━━━━━━━━━━━━━━━━━━━━━━━━━━━━━━━━━━━━━━━━━━━━━━━━━━━━━━━━━━━┛\n",
       "\n",
       "Source of argument \u001b[1;36;40msource\u001b[0m to \u001b[1;36;40mGroundedness\u001b[0m does not exist in app or expected record:                                \n",
       "\n",
       "\u001b[48;2;39;40;34m                                                                                                                   \u001b[0m\n",
       "\u001b[48;2;39;40;34m \u001b[0m\u001b[38;2;248;248;242;48;2;39;40;34m__record__\u001b[0m\u001b[38;2;255;70;137;48;2;39;40;34m.\u001b[0m\u001b[38;2;248;248;242;48;2;39;40;34mapp\u001b[0m\u001b[38;2;255;70;137;48;2;39;40;34m.\u001b[0m\u001b[38;2;248;248;242;48;2;39;40;34mretrieve_context\u001b[0m\u001b[38;2;255;70;137;48;2;39;40;34m.\u001b[0m\u001b[38;2;248;248;242;48;2;39;40;34mrets\u001b[0m\u001b[38;2;248;248;242;48;2;39;40;34m[\u001b[0m\u001b[38;2;248;248;242;48;2;39;40;34m:\u001b[0m\u001b[38;2;248;248;242;48;2;39;40;34m]\u001b[0m\u001b[38;2;255;70;137;48;2;39;40;34m.\u001b[0m\u001b[38;2;248;248;242;48;2;39;40;34mcollect\u001b[0m\u001b[38;2;248;248;242;48;2;39;40;34m(\u001b[0m\u001b[38;2;248;248;242;48;2;39;40;34m)\u001b[0m\u001b[48;2;39;40;34m                                                                \u001b[0m\u001b[48;2;39;40;34m \u001b[0m\n",
       "\u001b[48;2;39;40;34m \u001b[0m\u001b[38;2;149;144;119;48;2;39;40;34m# or equivalently\u001b[0m\u001b[48;2;39;40;34m                                                                                                \u001b[0m\u001b[48;2;39;40;34m \u001b[0m\n",
       "\u001b[48;2;39;40;34m \u001b[0m\u001b[38;2;248;248;242;48;2;39;40;34mSelect\u001b[0m\u001b[38;2;255;70;137;48;2;39;40;34m.\u001b[0m\u001b[38;2;248;248;242;48;2;39;40;34mRecordCalls\u001b[0m\u001b[38;2;255;70;137;48;2;39;40;34m.\u001b[0m\u001b[38;2;248;248;242;48;2;39;40;34mretrieve_context\u001b[0m\u001b[38;2;255;70;137;48;2;39;40;34m.\u001b[0m\u001b[38;2;248;248;242;48;2;39;40;34mrets\u001b[0m\u001b[38;2;248;248;242;48;2;39;40;34m[\u001b[0m\u001b[38;2;248;248;242;48;2;39;40;34m:\u001b[0m\u001b[38;2;248;248;242;48;2;39;40;34m]\u001b[0m\u001b[38;2;255;70;137;48;2;39;40;34m.\u001b[0m\u001b[38;2;248;248;242;48;2;39;40;34mcollect\u001b[0m\u001b[38;2;248;248;242;48;2;39;40;34m(\u001b[0m\u001b[38;2;248;248;242;48;2;39;40;34m)\u001b[0m\u001b[48;2;39;40;34m                                                            \u001b[0m\u001b[48;2;39;40;34m \u001b[0m\n",
       "\u001b[48;2;39;40;34m                                                                                                                   \u001b[0m\n",
       "\n",
       "The data used to make this check may be incomplete. If you expect records produced by your app to contain the      \n",
       "selected content, you can ignore this error by setting \u001b[1;36;40mselectors_nocheck\u001b[0m in the \u001b[1;36;40mTruCustomApp\u001b[0m constructor.          \n",
       "Alternatively, setting \u001b[1;36;40mselectors_check_warning\u001b[0m will print out this message but will not raise an error.            \n",
       "\n",
       "\n",
       "                                              \u001b[1;4mAdditional information:\u001b[0m                                              \n",
       "\n",
       "Feedback function signature:                                                                                       \n",
       "\n",
       "\u001b[48;2;39;40;34m                                                                                                                   \u001b[0m\n",
       "\u001b[48;2;39;40;34m \u001b[0m\u001b[38;2;248;248;242;48;2;39;40;34m(\u001b[0m\u001b[38;2;248;248;242;48;2;39;40;34msource\u001b[0m\u001b[38;2;248;248;242;48;2;39;40;34m:\u001b[0m\u001b[38;2;248;248;242;48;2;39;40;34m \u001b[0m\u001b[38;2;248;248;242;48;2;39;40;34mstr\u001b[0m\u001b[38;2;248;248;242;48;2;39;40;34m,\u001b[0m\u001b[38;2;248;248;242;48;2;39;40;34m \u001b[0m\u001b[38;2;248;248;242;48;2;39;40;34mstatement\u001b[0m\u001b[38;2;248;248;242;48;2;39;40;34m:\u001b[0m\u001b[38;2;248;248;242;48;2;39;40;34m \u001b[0m\u001b[38;2;248;248;242;48;2;39;40;34mstr\u001b[0m\u001b[38;2;248;248;242;48;2;39;40;34m,\u001b[0m\u001b[38;2;248;248;242;48;2;39;40;34m \u001b[0m\u001b[38;2;248;248;242;48;2;39;40;34mcriteria\u001b[0m\u001b[38;2;248;248;242;48;2;39;40;34m:\u001b[0m\u001b[38;2;248;248;242;48;2;39;40;34m \u001b[0m\u001b[38;2;248;248;242;48;2;39;40;34mOptional\u001b[0m\u001b[38;2;248;248;242;48;2;39;40;34m[\u001b[0m\u001b[38;2;248;248;242;48;2;39;40;34mstr\u001b[0m\u001b[38;2;248;248;242;48;2;39;40;34m]\u001b[0m\u001b[38;2;248;248;242;48;2;39;40;34m \u001b[0m\u001b[38;2;255;70;137;48;2;39;40;34m=\u001b[0m\u001b[38;2;248;248;242;48;2;39;40;34m \u001b[0m\u001b[38;2;102;217;239;48;2;39;40;34mNone\u001b[0m\u001b[38;2;248;248;242;48;2;39;40;34m,\u001b[0m\u001b[38;2;248;248;242;48;2;39;40;34m \u001b[0m\u001b[38;2;248;248;242;48;2;39;40;34muse_sent_tokenize\u001b[0m\u001b[38;2;248;248;242;48;2;39;40;34m:\u001b[0m\u001b[38;2;248;248;242;48;2;39;40;34m \u001b[0m\u001b[38;2;248;248;242;48;2;39;40;34mbool\u001b[0m\u001b[38;2;248;248;242;48;2;39;40;34m \u001b[0m\u001b[38;2;255;70;137;48;2;39;40;34m=\u001b[0m\u001b[38;2;248;248;242;48;2;39;40;34m \u001b[0m\u001b[38;2;102;217;239;48;2;39;40;34mTrue\u001b[0m\u001b[38;2;248;248;242;48;2;39;40;34m,\u001b[0m\u001b[38;2;248;248;242;48;2;39;40;34m \u001b[0m\u001b[48;2;39;40;34m                   \u001b[0m\u001b[48;2;39;40;34m \u001b[0m\n",
       "\u001b[48;2;39;40;34m \u001b[0m\u001b[38;2;248;248;242;48;2;39;40;34mfilter_trivial_statements\u001b[0m\u001b[38;2;248;248;242;48;2;39;40;34m:\u001b[0m\u001b[38;2;248;248;242;48;2;39;40;34m \u001b[0m\u001b[38;2;248;248;242;48;2;39;40;34mbool\u001b[0m\u001b[38;2;248;248;242;48;2;39;40;34m \u001b[0m\u001b[38;2;255;70;137;48;2;39;40;34m=\u001b[0m\u001b[38;2;248;248;242;48;2;39;40;34m \u001b[0m\u001b[38;2;102;217;239;48;2;39;40;34mTrue\u001b[0m\u001b[38;2;248;248;242;48;2;39;40;34m,\u001b[0m\u001b[38;2;248;248;242;48;2;39;40;34m \u001b[0m\u001b[38;2;248;248;242;48;2;39;40;34mmin_score_val\u001b[0m\u001b[38;2;248;248;242;48;2;39;40;34m:\u001b[0m\u001b[38;2;248;248;242;48;2;39;40;34m \u001b[0m\u001b[38;2;248;248;242;48;2;39;40;34mint\u001b[0m\u001b[38;2;248;248;242;48;2;39;40;34m \u001b[0m\u001b[38;2;255;70;137;48;2;39;40;34m=\u001b[0m\u001b[38;2;248;248;242;48;2;39;40;34m \u001b[0m\u001b[38;2;174;129;255;48;2;39;40;34m0\u001b[0m\u001b[38;2;248;248;242;48;2;39;40;34m,\u001b[0m\u001b[38;2;248;248;242;48;2;39;40;34m \u001b[0m\u001b[38;2;248;248;242;48;2;39;40;34mmax_score_val\u001b[0m\u001b[38;2;248;248;242;48;2;39;40;34m:\u001b[0m\u001b[38;2;248;248;242;48;2;39;40;34m \u001b[0m\u001b[38;2;248;248;242;48;2;39;40;34mint\u001b[0m\u001b[38;2;248;248;242;48;2;39;40;34m \u001b[0m\u001b[38;2;255;70;137;48;2;39;40;34m=\u001b[0m\u001b[38;2;248;248;242;48;2;39;40;34m \u001b[0m\u001b[38;2;174;129;255;48;2;39;40;34m3\u001b[0m\u001b[38;2;248;248;242;48;2;39;40;34m,\u001b[0m\u001b[38;2;248;248;242;48;2;39;40;34m \u001b[0m\u001b[38;2;248;248;242;48;2;39;40;34mtemperature\u001b[0m\u001b[38;2;248;248;242;48;2;39;40;34m:\u001b[0m\u001b[38;2;248;248;242;48;2;39;40;34m \u001b[0m\u001b[38;2;248;248;242;48;2;39;40;34mfloat\u001b[0m\u001b[38;2;248;248;242;48;2;39;40;34m \u001b[0m\u001b[38;2;255;70;137;48;2;39;40;34m=\u001b[0m\u001b[38;2;248;248;242;48;2;39;40;34m \u001b[0m\u001b[38;2;174;129;255;48;2;39;40;34m0.0\u001b[0m\u001b[38;2;248;248;242;48;2;39;40;34m)\u001b[0m\u001b[48;2;39;40;34m \u001b[0m\n",
       "\u001b[48;2;39;40;34m \u001b[0m\u001b[38;2;255;70;137;48;2;39;40;34m-\u001b[0m\u001b[38;2;255;70;137;48;2;39;40;34m>\u001b[0m\u001b[38;2;248;248;242;48;2;39;40;34m \u001b[0m\u001b[38;2;248;248;242;48;2;39;40;34mTuple\u001b[0m\u001b[38;2;248;248;242;48;2;39;40;34m[\u001b[0m\u001b[38;2;248;248;242;48;2;39;40;34mfloat\u001b[0m\u001b[38;2;248;248;242;48;2;39;40;34m,\u001b[0m\u001b[38;2;248;248;242;48;2;39;40;34m \u001b[0m\u001b[38;2;248;248;242;48;2;39;40;34mdict\u001b[0m\u001b[38;2;248;248;242;48;2;39;40;34m]\u001b[0m\u001b[48;2;39;40;34m                                                                                            \u001b[0m\u001b[48;2;39;40;34m \u001b[0m\n",
       "\u001b[48;2;39;40;34m                                                                                                                   \u001b[0m\n",
       "\n",
       "The prefix \u001b[1;36;40m__record__.app\u001b[0m selects this data that exists in your app or typical records:                            \n",
       "\n",
       "\u001b[1;33m • \u001b[0mObject of type \u001b[1;36;40mdict\u001b[0m starting with:                                                                              \n",
       "\n",
       "\u001b[48;2;39;40;34m                                                                                                                   \u001b[0m\n",
       "\u001b[48;2;39;40;34m \u001b[0m\u001b[38;2;248;248;242;48;2;39;40;34m      \u001b[0m\u001b[38;2;248;248;242;48;2;39;40;34m{\u001b[0m\u001b[48;2;39;40;34m                                                                                                          \u001b[0m\u001b[48;2;39;40;34m \u001b[0m\n",
       "\u001b[48;2;39;40;34m \u001b[0m\u001b[38;2;248;248;242;48;2;39;40;34m        \u001b[0m\u001b[38;2;230;219;116;48;2;39;40;34m'\u001b[0m\u001b[38;2;230;219;116;48;2;39;40;34mretrieve\u001b[0m\u001b[38;2;230;219;116;48;2;39;40;34m'\u001b[0m\u001b[38;2;248;248;242;48;2;39;40;34m:\u001b[0m\u001b[38;2;248;248;242;48;2;39;40;34m \u001b[0m\u001b[38;2;248;248;242;48;2;39;40;34m[\u001b[0m\u001b[38;2;248;248;242;48;2;39;40;34mRecordAppCall\u001b[0m\u001b[38;2;248;248;242;48;2;39;40;34m(\u001b[0m\u001b[38;2;255;70;137;48;2;39;40;34m.\u001b[0m\u001b[38;2;255;70;137;48;2;39;40;34m.\u001b[0m\u001b[38;2;255;70;137;48;2;39;40;34m.\u001b[0m\u001b[38;2;248;248;242;48;2;39;40;34m)\u001b[0m\u001b[38;2;248;248;242;48;2;39;40;34m]\u001b[0m\u001b[38;2;248;248;242;48;2;39;40;34m,\u001b[0m\u001b[48;2;39;40;34m                                                                        \u001b[0m\u001b[48;2;39;40;34m \u001b[0m\n",
       "\u001b[48;2;39;40;34m \u001b[0m\u001b[38;2;248;248;242;48;2;39;40;34m        \u001b[0m\u001b[38;2;230;219;116;48;2;39;40;34m'\u001b[0m\u001b[38;2;230;219;116;48;2;39;40;34mgenerate_response\u001b[0m\u001b[38;2;230;219;116;48;2;39;40;34m'\u001b[0m\u001b[38;2;248;248;242;48;2;39;40;34m:\u001b[0m\u001b[38;2;248;248;242;48;2;39;40;34m \u001b[0m\u001b[38;2;248;248;242;48;2;39;40;34m[\u001b[0m\u001b[38;2;248;248;242;48;2;39;40;34mRecordAppCall\u001b[0m\u001b[38;2;248;248;242;48;2;39;40;34m(\u001b[0m\u001b[38;2;255;70;137;48;2;39;40;34m.\u001b[0m\u001b[38;2;255;70;137;48;2;39;40;34m.\u001b[0m\u001b[38;2;255;70;137;48;2;39;40;34m.\u001b[0m\u001b[38;2;248;248;242;48;2;39;40;34m)\u001b[0m\u001b[38;2;248;248;242;48;2;39;40;34m]\u001b[0m\u001b[38;2;248;248;242;48;2;39;40;34m,\u001b[0m\u001b[48;2;39;40;34m                                                               \u001b[0m\u001b[48;2;39;40;34m \u001b[0m\n",
       "\u001b[48;2;39;40;34m \u001b[0m\u001b[38;2;248;248;242;48;2;39;40;34m        \u001b[0m\u001b[38;2;230;219;116;48;2;39;40;34m'\u001b[0m\u001b[38;2;230;219;116;48;2;39;40;34mcomplete\u001b[0m\u001b[38;2;230;219;116;48;2;39;40;34m'\u001b[0m\u001b[38;2;248;248;242;48;2;39;40;34m:\u001b[0m\u001b[38;2;248;248;242;48;2;39;40;34m \u001b[0m\u001b[38;2;248;248;242;48;2;39;40;34m[\u001b[0m\u001b[38;2;248;248;242;48;2;39;40;34mRecordAppCall\u001b[0m\u001b[38;2;248;248;242;48;2;39;40;34m(\u001b[0m\u001b[38;2;255;70;137;48;2;39;40;34m.\u001b[0m\u001b[38;2;255;70;137;48;2;39;40;34m.\u001b[0m\u001b[38;2;255;70;137;48;2;39;40;34m.\u001b[0m\u001b[38;2;248;248;242;48;2;39;40;34m)\u001b[0m\u001b[38;2;248;248;242;48;2;39;40;34m]\u001b[0m\u001b[48;2;39;40;34m                                                                         \u001b[0m\u001b[48;2;39;40;34m \u001b[0m\n",
       "\u001b[48;2;39;40;34m \u001b[0m\u001b[38;2;248;248;242;48;2;39;40;34m      \u001b[0m\u001b[38;2;248;248;242;48;2;39;40;34m}\u001b[0m\u001b[48;2;39;40;34m                                                                                                          \u001b[0m\u001b[48;2;39;40;34m \u001b[0m\n",
       "\u001b[48;2;39;40;34m                                                                                                                   \u001b[0m\n"
      ]
     },
     "metadata": {},
     "output_type": "display_data"
    },
    {
     "ename": "ValueError",
     "evalue": "Some selectors do not exist in the app or record.",
     "output_type": "error",
     "traceback": [
      "\u001b[0;31m---------------------------------------------------------------------------\u001b[0m",
      "\u001b[0;31mValueError\u001b[0m                                Traceback (most recent call last)",
      "Cell \u001b[0;32mIn[88], line 3\u001b[0m\n\u001b[1;32m      1\u001b[0m \u001b[38;5;28;01mfrom\u001b[39;00m \u001b[38;5;21;01mtrulens\u001b[39;00m\u001b[38;5;21;01m.\u001b[39;00m\u001b[38;5;21;01mapps\u001b[39;00m\u001b[38;5;21;01m.\u001b[39;00m\u001b[38;5;21;01mcustom\u001b[39;00m \u001b[38;5;28;01mimport\u001b[39;00m TruCustomApp\n\u001b[0;32m----> 3\u001b[0m tru_rag \u001b[38;5;241m=\u001b[39m \u001b[43mTruCustomApp\u001b[49m\u001b[43m(\u001b[49m\n\u001b[1;32m      4\u001b[0m \u001b[43m    \u001b[49m\u001b[43mrag\u001b[49m\u001b[43m,\u001b[49m\n\u001b[1;32m      5\u001b[0m \u001b[43m    \u001b[49m\u001b[43mapp_name\u001b[49m\u001b[38;5;241;43m=\u001b[39;49m\u001b[38;5;124;43m\"\u001b[39;49m\u001b[38;5;124;43mRAG\u001b[39;49m\u001b[38;5;124;43m\"\u001b[39;49m\u001b[43m,\u001b[49m\n\u001b[1;32m      6\u001b[0m \u001b[43m    \u001b[49m\u001b[43mapp_version\u001b[49m\u001b[38;5;241;43m=\u001b[39;49m\u001b[38;5;124;43m\"\u001b[39;49m\u001b[38;5;124;43msimple\u001b[39;49m\u001b[38;5;124;43m\"\u001b[39;49m\u001b[43m,\u001b[49m\n\u001b[1;32m      7\u001b[0m \u001b[43m    \u001b[49m\u001b[43mfeedbacks\u001b[49m\u001b[38;5;241;43m=\u001b[39;49m\u001b[43m[\u001b[49m\u001b[43mf_groundedness\u001b[49m\u001b[43m,\u001b[49m\u001b[43m \u001b[49m\u001b[43mf_answer_relevance\u001b[49m\u001b[43m,\u001b[49m\u001b[43m \u001b[49m\u001b[43mf_context_relevance\u001b[49m\u001b[43m]\u001b[49m\u001b[43m,\u001b[49m\n\u001b[1;32m      8\u001b[0m \u001b[43m    \u001b[49m\u001b[43mselectors_nocheck\u001b[49m\u001b[38;5;241;43m=\u001b[39;49m\u001b[38;5;28;43;01mTrue\u001b[39;49;00m\n\u001b[1;32m      9\u001b[0m \u001b[43m    \u001b[49m\u001b[43m)\u001b[49m\n",
      "File \u001b[0;32m~/miniconda3/envs/ragoon/lib/python3.10/site-packages/trulens/apps/custom.py:408\u001b[0m, in \u001b[0;36mTruCustomApp.__init__\u001b[0;34m(self, app, methods_to_instrument, **kwargs)\u001b[0m\n\u001b[1;32m    405\u001b[0m     instrument\u001b[38;5;241m.\u001b[39minclude_methods[main_name] \u001b[38;5;241m=\u001b[39m \u001b[38;5;28;01mlambda\u001b[39;00m o: \u001b[38;5;28misinstance\u001b[39m(o, \u001b[38;5;28mcls\u001b[39m)\n\u001b[1;32m    407\u001b[0m \u001b[38;5;66;03m# This does instrumentation:\u001b[39;00m\n\u001b[0;32m--> 408\u001b[0m \u001b[38;5;28;43msuper\u001b[39;49m\u001b[43m(\u001b[49m\u001b[43m)\u001b[49m\u001b[38;5;241;43m.\u001b[39;49m\u001b[38;5;21;43m__init__\u001b[39;49m\u001b[43m(\u001b[49m\u001b[38;5;241;43m*\u001b[39;49m\u001b[38;5;241;43m*\u001b[39;49m\u001b[43mkwargs\u001b[49m\u001b[43m)\u001b[49m\n\u001b[1;32m    410\u001b[0m \u001b[38;5;66;03m# Needed to split this part to after the instrumentation so that the\u001b[39;00m\n\u001b[1;32m    411\u001b[0m \u001b[38;5;66;03m# getattr below gets the instrumented version of main method.\u001b[39;00m\n\u001b[1;32m    412\u001b[0m \u001b[38;5;28;01mif\u001b[39;00m \u001b[38;5;124m\"\u001b[39m\u001b[38;5;124mmain_method\u001b[39m\u001b[38;5;124m\"\u001b[39m \u001b[38;5;129;01min\u001b[39;00m kwargs:\n\u001b[1;32m    413\u001b[0m     \u001b[38;5;66;03m# Set main_method to the unbound version. Will be passing in app for\u001b[39;00m\n\u001b[1;32m    414\u001b[0m     \u001b[38;5;66;03m# \"self\" manually when needed.\u001b[39;00m\n",
      "File \u001b[0;32m~/miniconda3/envs/ragoon/lib/python3.10/site-packages/trulens/core/app.py:458\u001b[0m, in \u001b[0;36mApp.__init__\u001b[0;34m(self, connector, feedbacks, **kwargs)\u001b[0m\n\u001b[1;32m    455\u001b[0m \u001b[38;5;28;01mif\u001b[39;00m \u001b[38;5;28mself\u001b[39m\u001b[38;5;241m.\u001b[39mfeedback_mode \u001b[38;5;241m==\u001b[39m feedback_schema\u001b[38;5;241m.\u001b[39mFeedbackMode\u001b[38;5;241m.\u001b[39mWITH_APP_THREAD:\n\u001b[1;32m    456\u001b[0m     \u001b[38;5;28mself\u001b[39m\u001b[38;5;241m.\u001b[39m_start_manage_pending_feedback_results()\n\u001b[0;32m--> 458\u001b[0m \u001b[38;5;28;43mself\u001b[39;49m\u001b[38;5;241;43m.\u001b[39;49m\u001b[43m_tru_post_init\u001b[49m\u001b[43m(\u001b[49m\u001b[43m)\u001b[49m\n",
      "File \u001b[0;32m~/miniconda3/envs/ragoon/lib/python3.10/site-packages/trulens/core/app.py:651\u001b[0m, in \u001b[0;36mApp._tru_post_init\u001b[0;34m(self)\u001b[0m\n\u001b[1;32m    648\u001b[0m dummy \u001b[38;5;241m=\u001b[39m \u001b[38;5;28mself\u001b[39m\u001b[38;5;241m.\u001b[39mdummy_record()\n\u001b[1;32m    650\u001b[0m \u001b[38;5;28;01mfor\u001b[39;00m feedback \u001b[38;5;129;01min\u001b[39;00m \u001b[38;5;28mself\u001b[39m\u001b[38;5;241m.\u001b[39mfeedbacks:\n\u001b[0;32m--> 651\u001b[0m     \u001b[43mfeedback\u001b[49m\u001b[38;5;241;43m.\u001b[39;49m\u001b[43mcheck_selectors\u001b[49m\u001b[43m(\u001b[49m\n\u001b[1;32m    652\u001b[0m \u001b[43m        \u001b[49m\u001b[43mapp\u001b[49m\u001b[38;5;241;43m=\u001b[39;49m\u001b[38;5;28;43mself\u001b[39;49m\u001b[43m,\u001b[49m\n\u001b[1;32m    653\u001b[0m \u001b[43m        \u001b[49m\u001b[38;5;66;43;03m# Don't have a record yet, but use an empty one for the non-call related fields.\u001b[39;49;00m\n\u001b[1;32m    654\u001b[0m \u001b[43m        \u001b[49m\u001b[43mrecord\u001b[49m\u001b[38;5;241;43m=\u001b[39;49m\u001b[43mdummy\u001b[49m\u001b[43m,\u001b[49m\n\u001b[1;32m    655\u001b[0m \u001b[43m        \u001b[49m\u001b[43mwarning\u001b[49m\u001b[38;5;241;43m=\u001b[39;49m\u001b[38;5;28;43mself\u001b[39;49m\u001b[38;5;241;43m.\u001b[39;49m\u001b[43mselector_check_warning\u001b[49m\u001b[43m,\u001b[49m\n\u001b[1;32m    656\u001b[0m \u001b[43m    \u001b[49m\u001b[43m)\u001b[49m\n",
      "File \u001b[0;32m~/miniconda3/envs/ragoon/lib/python3.10/site-packages/trulens/core/feedback/feedback.py:769\u001b[0m, in \u001b[0;36mFeedback.check_selectors\u001b[0;34m(self, app, record, source_data, warning)\u001b[0m\n\u001b[1;32m    766\u001b[0m     \u001b[38;5;28;01mreturn\u001b[39;00m \u001b[38;5;28;01mFalse\u001b[39;00m\n\u001b[1;32m    768\u001b[0m \u001b[38;5;28;01melse\u001b[39;00m:\n\u001b[0;32m--> 769\u001b[0m     \u001b[38;5;28;01mraise\u001b[39;00m \u001b[38;5;167;01mValueError\u001b[39;00m(\n\u001b[1;32m    770\u001b[0m         \u001b[38;5;124m\"\u001b[39m\u001b[38;5;124mSome selectors do not exist in the app or record.\u001b[39m\u001b[38;5;124m\"\u001b[39m\n\u001b[1;32m    771\u001b[0m     )\n",
      "\u001b[0;31mValueError\u001b[0m: Some selectors do not exist in the app or record."
     ]
    }
   ],
   "source": [
    "from trulens.apps.custom import TruCustomApp\n",
    "\n",
    "tru_rag = TruCustomApp(\n",
    "    rag,\n",
    "    app_name=\"RAG\",\n",
    "    app_version=\"simple\",\n",
    "    feedbacks=[f_groundedness, f_answer_relevance, f_context_relevance],\n",
    "    selectors_nocheck=True\n",
    "    )"
   ]
  },
  {
   "cell_type": "code",
   "execution_count": 78,
   "metadata": {},
   "outputs": [
    {
     "ename": "NameError",
     "evalue": "name 'tru_rag' is not defined",
     "output_type": "error",
     "traceback": [
      "\u001b[0;31m---------------------------------------------------------------------------\u001b[0m",
      "\u001b[0;31mNameError\u001b[0m                                 Traceback (most recent call last)",
      "Cell \u001b[0;32mIn[78], line 11\u001b[0m\n\u001b[1;32m      1\u001b[0m prompts \u001b[38;5;241m=\u001b[39m [\n\u001b[1;32m      2\u001b[0m     \u001b[38;5;124m\"\u001b[39m\u001b[38;5;124mWhat are the top travel tips for solo travelers exploring a new country for the first time?\u001b[39m\u001b[38;5;124m\"\u001b[39m,\n\u001b[1;32m      3\u001b[0m     \u001b[38;5;124m\"\u001b[39m\u001b[38;5;124mCan you suggest unique cultural festivals around the world that are worth experiencing?\u001b[39m\u001b[38;5;124m\"\u001b[39m,\n\u001b[0;32m   (...)\u001b[0m\n\u001b[1;32m      8\u001b[0m     \u001b[38;5;124m\"\u001b[39m\u001b[38;5;124mWhat are some insider tips for navigating public transportation in New York City as a tourist?\u001b[39m\u001b[38;5;124m\"\u001b[39m\n\u001b[1;32m      9\u001b[0m ]\n\u001b[0;32m---> 11\u001b[0m \u001b[38;5;28;01mwith\u001b[39;00m \u001b[43mtru_rag\u001b[49m \u001b[38;5;28;01mas\u001b[39;00m recording:\n\u001b[1;32m     12\u001b[0m     \u001b[38;5;28;01mfor\u001b[39;00m prompt \u001b[38;5;129;01min\u001b[39;00m prompts:\n\u001b[1;32m     13\u001b[0m         rag\u001b[38;5;241m.\u001b[39mcomplete(prompt)\n",
      "\u001b[0;31mNameError\u001b[0m: name 'tru_rag' is not defined"
     ]
    }
   ],
   "source": [
    "prompts = [\n",
    "    \"What are the top travel tips for solo travelers exploring a new country for the first time?\",\n",
    "    \"Can you suggest unique cultural festivals around the world that are worth experiencing?\",\n",
    "    \"What are the must-try dishes when visiting Japan, and where can I find the most authentic experiences?\",\n",
    "    \"What are some underrated travel destinations in Europe that are perfect for nature lovers?\",\n",
    "    \"How can I plan a budget-friendly two-week trip to Italy, including major attractions and hidden gems?\",\n",
    "    \"Which countries offer the best adventure sports activities, such as paragliding, scuba diving, or hiking?\",\n",
    "    \"What are some insider tips for navigating public transportation in New York City as a tourist?\"\n",
    "]\n",
    "\n",
    "with tru_rag as recording:\n",
    "    for prompt in prompts:\n",
    "        rag.complete(prompt)\n",
    "\n",
    "tru_session.get_leaderboard()"
   ]
  },
  {
   "cell_type": "code",
   "execution_count": 167,
   "metadata": {},
   "outputs": [],
   "source": [
    "if snowpark_session:\n",
    "    # Close the Snowflake session\n",
    "    snowpark_session.close()"
   ]
  }
 ],
 "metadata": {
  "kernelspec": {
   "display_name": "ragoon",
   "language": "python",
   "name": "python3"
  },
  "language_info": {
   "codemirror_mode": {
    "name": "ipython",
    "version": 3
   },
   "file_extension": ".py",
   "mimetype": "text/x-python",
   "name": "python",
   "nbconvert_exporter": "python",
   "pygments_lexer": "ipython3",
   "version": "3.10.15"
  }
 },
 "nbformat": 4,
 "nbformat_minor": 2
}
