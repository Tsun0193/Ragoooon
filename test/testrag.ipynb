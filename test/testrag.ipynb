{
 "cells": [
  {
   "cell_type": "code",
   "execution_count": 1,
   "metadata": {},
   "outputs": [
    {
     "name": "stdout",
     "output_type": "stream",
     "text": [
      "/Users/phuc/Code/proj/Ragoooon\n"
     ]
    }
   ],
   "source": [
    "cd .."
   ]
  },
  {
   "cell_type": "code",
   "execution_count": 2,
   "metadata": {},
   "outputs": [],
   "source": [
    "from core.llm.CustomLLM import RagoonBot\n",
    "import os\n",
    "from dotenv import load_dotenv\n",
    "from snowflake.snowpark.session import Session\n",
    "from snowflake.core import Root\n",
    "from snowflake.cortex import Complete\n",
    "from llama_index.core.llms import LLM\n",
    "from typing import Any, List, Dict"
   ]
  },
  {
   "cell_type": "code",
   "execution_count": 3,
   "metadata": {},
   "outputs": [
    {
     "data": {
      "text/plain": [
       "'/Users/phuc/Code/proj/Ragoooon'"
      ]
     },
     "execution_count": 3,
     "metadata": {},
     "output_type": "execute_result"
    }
   ],
   "source": [
    "pwd"
   ]
  },
  {
   "cell_type": "code",
   "execution_count": 4,
   "metadata": {},
   "outputs": [
    {
     "name": "stdout",
     "output_type": "stream",
     "text": [
      "RagoonBot initialized with model: mistral-large2\n"
     ]
    }
   ],
   "source": [
    "load_dotenv('../.env')\n",
    "llm = RagoonBot()"
   ]
  },
  {
   "cell_type": "code",
   "execution_count": 5,
   "metadata": {},
   "outputs": [],
   "source": [
    "class Rag:\n",
    "    def __init__(\n",
    "        self, \n",
    "        llm: LLM = llm,\n",
    "        transformers: Any = None, #TODO: add default transformers\n",
    "        snowpark_session: Session = None, #TODO\n",
    "        limit_to_retrieve: int = 4,\n",
    "        snowflake_params: Dict[str, str] = {},\n",
    "        search_columns: List[str] = [\"NAME\", \"INFORMATION\"],\n",
    "        retrieve_column: str = \"INFORMATION\",\n",
    "        \n",
    "    ):\n",
    "        \"\"\"\n",
    "        Initialize the RAG instance.\n",
    "\n",
    "        TODO: param\n",
    "        \"\"\"\n",
    "        if isinstance(llm, str):\n",
    "            self.llm = RagoonBot(model=llm)\n",
    "        else:\n",
    "            self.llm = llm\n",
    "        self.transformers = transformers\n",
    "        self._snowpark_session = snowpark_session\n",
    "        self._limit_to_retrieve = limit_to_retrieve\n",
    "        self.snowflake_params = snowflake_params\n",
    "        self.search_columns = search_columns\n",
    "        self.retrieve_column = retrieve_column\n",
    "\n",
    "\n",
    "    def retrieve(self, query: str) -> List[str]:\n",
    "        root = Root(self._snowpark_session)\n",
    "        cortex_search_service = (\n",
    "            root.databases[self.snowflake_params.get(\"database\")]\n",
    "            .schemas[self.snowflake_params.get(\"schema\")]\n",
    "            .cortex_search_services[self.snowflake_params.get(\"service\")]\n",
    "        )\n",
    "        resp = cortex_search_service.search(\n",
    "            query=query,\n",
    "            columns=self.search_columns,\n",
    "            limit=self._limit_to_retrieve,\n",
    "        )\n",
    "\n",
    "        if resp.results:\n",
    "            return [curr[self.retrieve_column] for curr in resp.results]\n",
    "        else:\n",
    "            return []\n",
    "    \n",
    "\n",
    "    def generate_response(\n",
    "        self,\n",
    "        contexts: List[str] = [],\n",
    "        query: str = None,\n",
    "    ):\n",
    "        context = \"\\n\\n\".join(contexts)\n",
    "        prompt = ( #TODO: prompting\n",
    "        \"You are an assistant for tourism and travel tasks. Use the following pieces of \"\n",
    "        \"retrieved context to answer the question. If you don't know the answer, say that you \"\n",
    "        \"don't know. Keep the answer concise.\"\n",
    "        \"\\n\\nContext:\\n\" + context + \"\\n\\nQuestion:\\n\" + query\n",
    "    )\n",
    "\n",
    "        response = self.llm.complete(prompt)\n",
    "        return response\n",
    "\n",
    "    def complete(\n",
    "        self,\n",
    "        text: str\n",
    "    ):\n",
    "        if self.transformers is not None:\n",
    "            for transformer in self.transformers:\n",
    "                text = transformer.transform(text)\n",
    "\n",
    "        retrieved_contexts = self.retrieve(text)\n",
    "        response = self.generate_response(retrieved_contexts, text)\n",
    "\n",
    "        return response\n",
    "        "
   ]
  },
  {
   "cell_type": "code",
   "execution_count": 6,
   "metadata": {},
   "outputs": [],
   "source": [
    "connection_params = {\n",
    "    \"account\":  os.environ[\"SNOWFLAKE_ACCOUNT\"],\n",
    "    \"user\": os.environ[\"SNOWFLAKE_USER\"],\n",
    "    \"password\": os.environ[\"SNOWFLAKE_USER_PASSWORD\"],\n",
    "    \"role\": os.environ[\"SNOWFLAKE_ROLE\"],\n",
    "    \"database\": os.environ[\"SNOWFLAKE_DATABASE\"],\n",
    "    \"schema\": os.environ[\"SNOWFLAKE_SCHEMA\"],\n",
    "    \"warehouse\": os.environ[\"SNOWFLAKE_WAREHOUSE\"],\n",
    "    \"service\": os.environ[\"SNOWFLAKE_CORTEX_SEARCH_SERVICE\"],\n",
    "}"
   ]
  },
  {
   "cell_type": "code",
   "execution_count": 7,
   "metadata": {},
   "outputs": [
    {
     "name": "stdout",
     "output_type": "stream",
     "text": [
      "{'account': 'pbwpsqr-bub27947', 'user': 'iai24ares3', 'password': 'IAI24.ares', 'role': 'ACCOUNTADMIN', 'database': 'RAGOOOON', 'schema': 'PUBLIC', 'warehouse': 'COMPUTE_WH', 'service': 'QUERY_DESTINATION'}\n"
     ]
    }
   ],
   "source": [
    "print(connection_params)"
   ]
  },
  {
   "cell_type": "code",
   "execution_count": 8,
   "metadata": {},
   "outputs": [],
   "source": [
    "snowpark_session = Session.builder.configs(connection_params).create()"
   ]
  },
  {
   "cell_type": "code",
   "execution_count": 9,
   "metadata": {},
   "outputs": [
    {
     "name": "stdout",
     "output_type": "stream",
     "text": [
      " In Hanoi, you should try local street food. The Old Quarter has many street restaurants with plastic tables and chairs on the pavement. Popular dishes include \"phở gà\" (chicken noodle soup), \"phở bò\" (beef noodle soup), or \"phở chay\" (tofu noodle soup). You can also try \"bia hơi\" (fresh beer) at street corners. For a local experience, have lemon ice tea and sunflower seeds at street bars near the cathedral. Additionally, you can find fruit milkshakes on Tô Tich street.\n"
     ]
    }
   ],
   "source": [
    "rag = Rag(\n",
    "    llm=llm,\n",
    "    transformers=None,\n",
    "    snowpark_session=snowpark_session,\n",
    "    snowflake_params=connection_params,\n",
    ")\n",
    "\n",
    "response = rag.complete(\"Where should I eat in Hanoi?\")\n",
    "print(response)\n",
    "\n",
    "if snowpark_session:\n",
    "        # Close the Snowflake session\n",
    "    snowpark_session.close()"
   ]
  }
 ],
 "metadata": {
  "kernelspec": {
   "display_name": "ragoon",
   "language": "python",
   "name": "python3"
  },
  "language_info": {
   "codemirror_mode": {
    "name": "ipython",
    "version": 3
   },
   "file_extension": ".py",
   "mimetype": "text/x-python",
   "name": "python",
   "nbconvert_exporter": "python",
   "pygments_lexer": "ipython3",
   "version": "3.10.15"
  }
 },
 "nbformat": 4,
 "nbformat_minor": 2
}
