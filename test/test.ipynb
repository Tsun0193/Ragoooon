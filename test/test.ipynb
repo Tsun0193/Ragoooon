{
 "cells": [
  {
   "cell_type": "code",
   "execution_count": 41,
   "metadata": {},
   "outputs": [],
   "source": [
    "import os\n",
    "import warnings\n",
    "from llama_index.core.indices.query.query_transform import HyDEQueryTransform\n",
    "from llama_index.core.llms import CustomLLM, CompletionResponse, CompletionResponseGen, LLMMetadata, LLM\n",
    "from llama_index.core.llms.callbacks import llm_completion_callback\n",
    "from huggingface_hub import InferenceClient\n",
    "from snowflake.snowpark import Session\n",
    "from snowflake.cortex import Complete\n",
    "from snowflake.cortex import CompleteOptions\n",
    "from dotenv import load_dotenv\n",
    "from typing import Any, Union, List"
   ]
  },
  {
   "cell_type": "code",
   "execution_count": 42,
   "metadata": {},
   "outputs": [],
   "source": [
    "warnings.filterwarnings(\"ignore\")\n",
    "load_dotenv(\"../.env\")\n",
    "\n",
    "connection_params = {\n",
    "    \"account\": os.environ[\"SNOWFLAKE_ACCOUNT\"],\n",
    "    \"user\": os.environ[\"SNOWFLAKE_USER\"],\n",
    "    \"password\": os.environ[\"SNOWFLAKE_USER_PASSWORD\"],\n",
    "}"
   ]
  },
  {
   "cell_type": "code",
   "execution_count": 43,
   "metadata": {},
   "outputs": [],
   "source": [
    "snowflake_session = Session.builder.configs(connection_params).create()"
   ]
  },
  {
   "cell_type": "code",
   "execution_count": null,
   "metadata": {},
   "outputs": [],
   "source": [
    "def complete(user_text: str):\n",
    "    completion = Complete(\n",
    "        model=\"mistral-large2\", #changes here!\n",
    "        prompt=user_text,\n",
    "        session=snowflake_session,\n",
    "        options=CompleteOptions\n",
    "    )\n",
    "    return completion"
   ]
  },
  {
   "cell_type": "code",
   "execution_count": 33,
   "metadata": {},
   "outputs": [],
   "source": [
    "class RagoonBot(CustomLLM):\n",
    "    context_window: int = 3900\n",
    "    num_output: int = 256\n",
    "    model_name: str = \"mistral-large2\"\n",
    "\n",
    "    @property\n",
    "    def metadata(self) -> LLMMetadata:\n",
    "        \"\"\"Get LLM metadata.\"\"\"\n",
    "        return LLMMetadata(\n",
    "            context_window=self.context_window,\n",
    "            num_output=self.num_output,\n",
    "            model_name=self.model_name,\n",
    "        )\n",
    "\n",
    "    @llm_completion_callback()\n",
    "    def complete(self, prompt: str | List[str],\n",
    "                 **kwargs: Any) -> CompletionResponse:\n",
    "        response = complete(prompt)\n",
    "        return CompletionResponse(text=response)\n",
    "\n",
    "    @llm_completion_callback()\n",
    "    def stream_complete(\n",
    "        self, prompt: str, **kwargs: Any\n",
    "    ) -> CompletionResponseGen:\n",
    "        # In streaming mode, we'll still receive the full response at the end of generate.\n",
    "        # To truly stream token by token, you'd need to yield from within the generate function itself.\n",
    "        # Here we simulate token-level streaming by splitting the final response.\n",
    "        full_response = complete(prompt)\n",
    "\n",
    "        accumulated_text = \"\"\n",
    "        for char in full_response:\n",
    "            accumulated_text += char\n",
    "            yield CompletionResponse(text=accumulated_text, delta=char)"
   ]
  },
  {
   "cell_type": "code",
   "execution_count": 34,
   "metadata": {},
   "outputs": [],
   "source": [
    "llm = RagoonBot()"
   ]
  },
  {
   "cell_type": "code",
   "execution_count": 37,
   "metadata": {},
   "outputs": [
    {
     "data": {
      "text/plain": [
       "CompletionResponse(text=\" Hello! How can I assist you today? Let's have a friendly conversation. How are you doing?\", additional_kwargs={}, raw=None, logprobs=None, delta=None)"
      ]
     },
     "execution_count": 37,
     "metadata": {},
     "output_type": "execute_result"
    }
   ],
   "source": [
    "llm.complete(\"Hello\")"
   ]
  },
  {
   "cell_type": "code",
   "execution_count": 10,
   "metadata": {},
   "outputs": [],
   "source": [
    "class HyDETransformer(HyDEQueryTransform):\n",
    "    def __init__(self, \n",
    "                 llm: LLM,\n",
    "                 hyde_prompt: str = None,\n",
    "                 include_original: bool = True):\n",
    "        \"\"\"\n",
    "        Initializes the Hypothetical Document Embeddings \n",
    "\n",
    "        :param llm: str, default None. The LLM model to use.\n",
    "        :param hyde_prompt: str, default None. The prompt to use for the HyDE model.\n",
    "        :param include_original: bool, default True. Whether to include the original text in the output.\n",
    "        \"\"\"\n",
    "        super().__init__(\n",
    "            llm=llm,\n",
    "            hyde_prompt=hyde_prompt,\n",
    "            include_original=include_original\n",
    "        )\n",
    "        \n",
    "\n",
    "    def transform(\n",
    "        self,\n",
    "        text: str = None\n",
    "    ):\n",
    "        \"\"\"\n",
    "        Transforms the input text into hypothetical document embeddings.\n",
    "\n",
    "        :param text: str. The text to transform.\n",
    "        :return: str. The transformed text.\n",
    "        \"\"\"\n",
    "        if text is None:\n",
    "            return \"Please provide a text to transform.\"\n",
    "        \n",
    "        response = self.run(text)\n",
    "        return response.custom_embedding_strs"
   ]
  },
  {
   "cell_type": "code",
   "execution_count": 11,
   "metadata": {},
   "outputs": [
    {
     "name": "stdout",
     "output_type": "stream",
     "text": [
      " Schizophrenia, a complex mental health disorder, significantly impacts various cognitive functions, including memory. One of the most pronounced effects is on working memory, the system that actively holds and manipulates information over short periods. Individuals with schizophrenia often experience deficits in working memory, which can manifest as difficulties in recalling recent events, following conversations, or performing tasks that require holding information in mind temporarily.\n",
      "\n",
      "Long-term memory is also affected, with patients frequently reporting problems in both episodic memory (recollection of personal experiences and events) and semantic memory (knowledge about the world). These impairments can lead to challenges in daily life, such as forgetting important appointments, misplacing items, or struggling to remember previously learned information.\n",
      "\n",
      "Additionally, schizophrenia can disrupt procedural memory, the type of memory involved in learning and performing automatic tasks like riding a bike or tying a shoe. This disruption can make it difficult for individuals to acquire new skills or maintain previously learned ones.\n",
      "\n",
      "The memory deficits in schizophrenia are thought to be linked to abnormalities in brain regions crucial for memory processing, such as the prefrontal cortex and the hippocampus. These abnormalities may result from a combination of genetic predisposition, neurodevelopmental factors, and environmental influences.\n",
      "\n",
      "Moreover, the symptoms of schizophrenia, such as hallucinations and delusions, can further exacerbate memory problems. For instance, intrusive thoughts or auditory hallucinations can distract from the encoding and retrieval of information, leading to further memory impairment.\n",
      "\n",
      "Treatment for schizophrenia often includes a combination of antipsychotic medications and cognitive-behavioral therapy, which can help mitigate some of the memory deficits. However, the extent to which these interventions improve memory function varies among individuals. Ongoing research aims to develop more effective strategies to address the cognitive impairments associated with schizophrenia, with the goal of enhancing the quality of life for those affected by the disorder.\n",
      "What are the effects of schizophrenia on memory?\n"
     ]
    }
   ],
   "source": [
    "text = \"What are the effects of schizophrenia on memory?\"\n",
    "transformer = HyDETransformer(\n",
    "    llm=llm\n",
    ")\n",
    "queries = transformer.transform(text)\n",
    "for query in queries:\n",
    "    print(query)"
   ]
  },
  {
   "cell_type": "code",
   "execution_count": null,
   "metadata": {},
   "outputs": [],
   "source": []
  }
 ],
 "metadata": {
  "kernelspec": {
   "display_name": "ragoon",
   "language": "python",
   "name": "python3"
  },
  "language_info": {
   "codemirror_mode": {
    "name": "ipython",
    "version": 3
   },
   "file_extension": ".py",
   "mimetype": "text/x-python",
   "name": "python",
   "nbconvert_exporter": "python",
   "pygments_lexer": "ipython3",
   "version": "3.11.10"
  }
 },
 "nbformat": 4,
 "nbformat_minor": 2
}
