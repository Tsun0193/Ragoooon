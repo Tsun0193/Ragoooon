{
 "cells": [
  {
   "cell_type": "code",
   "execution_count": 1,
   "metadata": {
    "vscode": {
     "languageId": "powershell"
    }
   },
   "outputs": [
    {
     "name": "stdout",
     "output_type": "stream",
     "text": [
      "d:\\Project\\Ragoooon\n"
     ]
    }
   ],
   "source": [
    "cd .."
   ]
  },
  {
   "cell_type": "code",
   "execution_count": 2,
   "metadata": {},
   "outputs": [
    {
     "name": "stdout",
     "output_type": "stream",
     "text": [
      "RagoonBot initialized with model: mistral-large2\n",
      "RagoonBot initialized with model: mistral-large2\n"
     ]
    }
   ],
   "source": [
    "import os\n",
    "\n",
    "from dotenv import load_dotenv\n",
    "from snowflake.snowpark.session import Session\n",
    "from snowflake.core import Root\n",
    "from snowflake.cortex import Complete\n",
    "from llama_index.core.llms import LLM\n",
    "from typing import Any, List, Dict, Callable, Union\n",
    "\n",
    "from core.llm.CustomLLM import RagoonBot\n",
    "from core.preprocessing.HYDE.HyDETransform import HyDETransformer\n",
    "from core.preprocessing.MultiStep.MultiStepTransform import MultiStepTransformer"
   ]
  },
  {
   "cell_type": "code",
   "execution_count": 3,
   "metadata": {},
   "outputs": [
    {
     "name": "stdout",
     "output_type": "stream",
     "text": [
      "RagoonBot initialized with model: mistral-large2\n"
     ]
    }
   ],
   "source": [
    "load_dotenv('../../.env')\n",
    "llm = RagoonBot()"
   ]
  },
  {
   "cell_type": "code",
   "execution_count": 4,
   "metadata": {},
   "outputs": [],
   "source": [
    "transforms = {\n",
    "    'HyDE': HyDETransformer(),\n",
    "    # 'MultiStep': MultiStepTransformer()\n",
    "}"
   ]
  },
  {
   "cell_type": "code",
   "execution_count": 5,
   "metadata": {},
   "outputs": [],
   "source": [
    "try:\n",
    "    connection_params = {\n",
    "        \"account\":  os.environ[\"SNOWFLAKE_ACCOUNT\"],\n",
    "        \"user\": os.environ[\"SNOWFLAKE_USER\"],\n",
    "        \"password\": os.environ[\"SNOWFLAKE_USER_PASSWORD\"],\n",
    "        \"role\": os.environ[\"SNOWFLAKE_ROLE\"],\n",
    "        \"database\": os.environ[\"SNOWFLAKE_DATABASE\"],\n",
    "        \"schema\": os.environ[\"SNOWFLAKE_SCHEMA\"],\n",
    "        \"warehouse\": os.environ[\"SNOWFLAKE_WAREHOUSE\"],\n",
    "        \"service\": os.environ[\"SNOWFLAKE_CORTEX_SEARCH_SERVICE\"],\n",
    "    }\n",
    "except KeyError as e:\n",
    "    print(\"Please set the environment variable: \" + str(e))\n",
    "\n",
    "try:\n",
    "    snowpark_session = Session.builder.configs(connection_params).create()\n",
    "except Exception as e:\n",
    "    print(\"Error creating Snowpark session: \" + str(e))"
   ]
  },
  {
   "cell_type": "code",
   "execution_count": 11,
   "metadata": {},
   "outputs": [],
   "source": [
    "class Rag:\n",
    "    def __init__(\n",
    "        self, \n",
    "        llm: LLM = llm,\n",
    "        transformers: Union[str, List[str]] = None,\n",
    "        snowpark_session: Session = snowpark_session,\n",
    "        limit_to_retrieve: int = 4,\n",
    "        snowflake_params: Dict[str, str] = connection_params,\n",
    "        search_columns: List[str] = [\"NAME\", \"INFORMATION\"],\n",
    "        retrieve_column: str = \"INFORMATION\"\n",
    "    ):\n",
    "        \"\"\"\n",
    "        Initialize the RAG instance.\n",
    "\n",
    "        TODO: param\n",
    "        \"\"\"\n",
    "        if isinstance(llm, str):\n",
    "            self.llm = RagoonBot(model=llm)\n",
    "        else:\n",
    "            self.llm = llm\n",
    "        \n",
    "        if isinstance(transformers, str):\n",
    "            self.transformers = [transformers]\n",
    "        else:\n",
    "            self.transformers = transformers\n",
    "\n",
    "        self._snowpark_session = snowpark_session\n",
    "        self._limit_to_retrieve = limit_to_retrieve\n",
    "        self.snowflake_params = snowflake_params\n",
    "        self.search_columns = search_columns\n",
    "        self.retrieve_column = retrieve_column\n",
    "\n",
    "\n",
    "    def retrieve(self, query: str) -> List[str]:\n",
    "        root = Root(self._snowpark_session)\n",
    "        cortex_search_service = (\n",
    "            root.databases[self.snowflake_params.get(\"database\")]\n",
    "            .schemas[self.snowflake_params.get(\"schema\")]\n",
    "            .cortex_search_services[self.snowflake_params.get(\"service\")]\n",
    "        )\n",
    "        resp = cortex_search_service.search(\n",
    "            query=query,\n",
    "            columns=self.search_columns,\n",
    "            limit=self._limit_to_retrieve,\n",
    "        )\n",
    "\n",
    "        if resp.results:\n",
    "            return [curr[self.retrieve_column] for curr in resp.results]\n",
    "        else:\n",
    "            return []\n",
    "    \n",
    "\n",
    "    def generate_response(\n",
    "        self,\n",
    "        contexts: List[str] = [],\n",
    "        query: str = None,\n",
    "    ):\n",
    "        _query = query\n",
    "        if self.transformers is not None:\n",
    "            for _transformer in self.transformers:\n",
    "                prime = transforms.get(_transformer)\n",
    "                _query = prime.transform(query)[0]\n",
    "        context = \"\\n\\n\".join(contexts)\n",
    "        prompt = ( #TODO: prompting\n",
    "            \"You are an assistant for tourism and travel tasks. Use the following pieces of \"\n",
    "            \"retrieved context to answer the question. If you don't know the answer, say that you \"\n",
    "            \"don't know. Keep the answer concise.\"\n",
    "            \"\\n\\nContext:\\n\" + context + \"\\n\\nQuestion:\\n\" + _query\n",
    "        )\n",
    "\n",
    "        response = self.llm.complete(prompt)\n",
    "        return response\n",
    "\n",
    "    def complete(\n",
    "        self,\n",
    "        prompt: str,\n",
    "        **kwargs\n",
    "    ):\n",
    "        _prompt = prompt\n",
    "        if self.transformers is not None:\n",
    "            for _transformer in self.transformers:\n",
    "                prime = transforms.get(_transformer)\n",
    "                _prompt = prime.transform(prompt)[0]\n",
    "\n",
    "        retrieved_contexts = self.retrieve(_prompt)\n",
    "        response = self.generate_response(retrieved_contexts, _prompt)\n",
    "\n",
    "        return response"
   ]
  },
  {
   "cell_type": "code",
   "execution_count": 12,
   "metadata": {},
   "outputs": [
    {
     "name": "stdout",
     "output_type": "stream",
     "text": [
      " Hanoi offers a diverse range of dining options, from traditional street food to upscale restaurants. In the Old Quarter, you can try iconic dishes like pho at Pho Gia Truyen (49 Bat Dan Street) and bun cha at Bun Cha Huong Lien (24 Le Van Huu Street). For a more upscale experience, visit Le Beaulieu at the Sofitel Legend Metropole Hanoi. The West Lake area offers international cuisine, while Uu Dam Chay (34 Hang Bai Street) is a popular vegan restaurant. Don't miss Café Giang (39 Nguyen Huu Huan Street) for its famous egg coffee. Hanoi's culinary scene caters to every taste.\n"
     ]
    }
   ],
   "source": [
    "rag = Rag(\n",
    "        llm=llm,\n",
    "        transformers=\"HyDE\",\n",
    "        snowpark_session=snowpark_session,\n",
    "        snowflake_params=connection_params\n",
    "    )\n",
    "    \n",
    "response = rag.complete(\"Where should I eat in Hanoi?\")\n",
    "print(response)\n",
    "\n",
    "if snowpark_session:\n",
    "    # Close the Snowflake session\n",
    "    snowpark_session.close()"
   ]
  }
 ],
 "metadata": {
  "kernelspec": {
   "display_name": "snowflake2",
   "language": "python",
   "name": "python3"
  },
  "language_info": {
   "codemirror_mode": {
    "name": "ipython",
    "version": 3
   },
   "file_extension": ".py",
   "mimetype": "text/x-python",
   "name": "python",
   "nbconvert_exporter": "python",
   "pygments_lexer": "ipython3",
   "version": "3.11.11"
  }
 },
 "nbformat": 4,
 "nbformat_minor": 2
}
