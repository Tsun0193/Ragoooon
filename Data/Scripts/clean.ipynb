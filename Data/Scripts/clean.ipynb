{
 "cells": [
  {
   "cell_type": "code",
   "execution_count": 15,
   "metadata": {},
   "outputs": [],
   "source": [
    "import json\n",
    "import re\n",
    "import os"
   ]
  },
  {
   "cell_type": "code",
   "execution_count": null,
   "metadata": {},
   "outputs": [],
   "source": [
    "cd .."
   ]
  },
  {
   "cell_type": "code",
   "execution_count": null,
   "metadata": {},
   "outputs": [],
   "source": [
    "file_path = 'destination_data.json'"
   ]
  },
  {
   "cell_type": "code",
   "execution_count": null,
   "metadata": {},
   "outputs": [],
   "source": [
    "# Check if the file exists\n",
    "if os.path.exists(file_path):\n",
    "    # Access to the destination_data_cleaned json file\n",
    "    with open(file_path) as json_file:\n",
    "        data = json.load(json_file)\n",
    "else:\n",
    "    print(f\"File not found: {file_path}\")"
   ]
  },
  {
   "cell_type": "code",
   "execution_count": 16,
   "metadata": {},
   "outputs": [],
   "source": [
    "# Function to clean newlines in JSON\n",
    "def clean_json(data):\n",
    "    for key, value in data.items():\n",
    "        if isinstance(value, str):\n",
    "            data[key] = value.replace(\"\\n\", \"\").replace(f\"{key}\", \"\") # Replace newlines with a space or any preferred character\n",
    "        elif value is not None and isinstance(value, dict):\n",
    "            clean_json(value)  # Recursively clean nested dictionaries\n",
    "        else:\n",
    "            data[key] = \"\"\n",
    "    return data"
   ]
  },
  {
   "cell_type": "code",
   "execution_count": 21,
   "metadata": {},
   "outputs": [],
   "source": [
    "def remove_thumb_and_thumbnail_pattern(text):\n",
    "    text = re.sub(r'[^|]*px\\|.*\\|', '', text)\n",
    "    text = re.sub(r'thumb\\|.*\\|', '', text)\n",
    "    text = re.sub(r'thumb \\|.*\\| ', '', text)\n",
    "    return text\n",
    "\n",
    "def clean_json_fields(data):\n",
    "    for key, value in data.items():\n",
    "        if isinstance(value, str):  # Only clean string fields\n",
    "            data[key] = remove_thumb_and_thumbnail_pattern(value).replace('thumb|','').replace('thumbnail|','') # Clean the value\n",
    "        elif isinstance(value, dict):  # Recursively clean nested dictionaries\n",
    "            clean_json_fields(value)\n",
    "        elif isinstance(value, list):  # Handle lists, if needed\n",
    "            for i in range(len(value)):\n",
    "                if isinstance(value[i], str):\n",
    "                    value[i] = remove_thumb_and_thumbnail_pattern(value[i])\n",
    "                elif isinstance(value[i], dict):\n",
    "                    clean_json_fields(value[i])\n",
    "    return data"
   ]
  },
  {
   "cell_type": "code",
   "execution_count": null,
   "metadata": {},
   "outputs": [],
   "source": [
    "output = []\n",
    "output_file = 'destination_data_cleaned.json'\n",
    "for i in range(len(data)):\n",
    "    clean_data = clean_json_fields(clean_json(data[i]))\n",
    "    output.append(clean_data)\n",
    "\n",
    "# with open(output_file, 'w', encoding='utf-8') as f:\n",
    "#     json.dump(output, f, indent=2, ensure_ascii=False)"
   ]
  },
  {
   "cell_type": "code",
   "execution_count": null,
   "metadata": {},
   "outputs": [],
   "source": [
    "output"
   ]
  },
  {
   "cell_type": "code",
   "execution_count": null,
   "metadata": {},
   "outputs": [],
   "source": [
    "#wrie output to a json file\n",
    "with open(output_file, 'w', encoding='utf-8') as f:\n",
    "    json.dump(output, f, indent=2, ensure_ascii=False)"
   ]
  }
 ],
 "metadata": {
  "kernelspec": {
   "display_name": "base",
   "language": "python",
   "name": "python3"
  },
  "language_info": {
   "codemirror_mode": {
    "name": "ipython",
    "version": 3
   },
   "file_extension": ".py",
   "mimetype": "text/x-python",
   "name": "python",
   "nbconvert_exporter": "python",
   "pygments_lexer": "ipython3",
   "version": "3.12.7"
  }
 },
 "nbformat": 4,
 "nbformat_minor": 2
}
