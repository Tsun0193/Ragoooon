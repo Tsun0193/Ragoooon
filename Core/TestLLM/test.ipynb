{
 "cells": [
  {
   "cell_type": "code",
   "execution_count": 6,
   "metadata": {},
   "outputs": [],
   "source": [
    "import os\n",
    "from dotenv import load_dotenv\n",
    "from snowflake.snowpark import Session\n",
    "from snowflake.cortex import Summarize, Complete, ExtractAnswer, Sentiment, Translate"
   ]
  },
  {
   "cell_type": "code",
   "execution_count": null,
   "metadata": {},
   "outputs": [
    {
     "name": "stdout",
     "output_type": "stream",
     "text": [
      "{'account': '', 'user': '', 'password': ''}\n"
     ]
    }
   ],
   "source": [
    "load_dotenv()\n",
    "\n",
    "connection_params = {\n",
    "    \"account\": os.environ[\"SNOWFLAKE_ACCOUNT\"],\n",
    "    \"user\": os.environ[\"SNOWFLAKE_USER\"],\n",
    "    \"password\": os.environ[\"SNOWFLAKE_USER_PASSWORD\"],\n",
    "}\n",
    "\n",
    "print(connection_params)\n",
    "\n",
    "# snowflake_session = Session.builder.configs(connection_params).create()"
   ]
  },
  {
   "cell_type": "code",
   "execution_count": null,
   "metadata": {},
   "outputs": [],
   "source": [
    "def summarize(user_text):\n",
    "    summary = Summarize(text=user_text, session=snowflake_session)\n",
    "    return summary"
   ]
  },
  {
   "cell_type": "code",
   "execution_count": null,
   "metadata": {},
   "outputs": [],
   "source": [
    "def complete(user_text):\n",
    "    completion = Complete(\n",
    "        model=\"snowflake-arctic\",\n",
    "        prompt=f\"Provide 5 keywords from the following text: {user_text}\",\n",
    "        session=snowflake_session,\n",
    "    )\n",
    "    return completion"
   ]
  },
  {
   "cell_type": "code",
   "execution_count": null,
   "metadata": {},
   "outputs": [],
   "source": [
    "def extract_answer(user_text):\n",
    "    answer = ExtractAnswer(\n",
    "        from_text=user_text,\n",
    "        question=\"What are some of the ethical concerns associated with the rapid development of AI?\",\n",
    "        session=snowflake_session,\n",
    "    )\n",
    "    return answer"
   ]
  },
  {
   "cell_type": "code",
   "execution_count": null,
   "metadata": {},
   "outputs": [],
   "source": [
    "def sentiment(user_text):\n",
    "    sentiment = Sentiment(text=user_text, session=snowflake_session)\n",
    "    return sentiment"
   ]
  },
  {
   "cell_type": "code",
   "execution_count": null,
   "metadata": {},
   "outputs": [],
   "source": [
    "def translate(user_text):\n",
    "    translation = Translate(\n",
    "        text=user_text, from_language=\"en\", to_language=\"de\", session=snowflake_session\n",
    "    )\n",
    "    return translation"
   ]
  },
  {
   "cell_type": "code",
   "execution_count": null,
   "metadata": {},
   "outputs": [],
   "source": [
    "user_text = \"\"\"\n",
    "        The recent advancements in artificial intelligence have revolutionized various industries. From healthcare to finance, AI-powered solutions are enhancing efficiency and accuracy. In healthcare, AI is being used to predict patient outcomes, personalize treatment plans, and even assist in surgeries. Financial institutions are leveraging AI to detect fraudulent activities, provide personalized banking experiences, and improve risk management.\n",
    "\n",
    "        However, the rapid development of AI also raises ethical concerns. Issues such as data privacy, algorithmic bias, and the potential for job displacement are being actively debated. Ensuring that AI technologies are developed and deployed responsibly is crucial for maximizing their benefits while minimizing their drawbacks.\n",
    "\n",
    "        Furthermore, the global race for AI supremacy is intensifying. Countries and corporations are investing heavily in AI research and development to gain a competitive edge. This competition is driving innovation but also highlighting the need for international cooperation and regulation.\n",
    "\n",
    "        In conclusion, while AI holds tremendous potential to transform our world positively, it is imperative to address the associated challenges. By fostering ethical AI practices and encouraging collaboration across borders, we can harness the full power of AI for the greater good.\n",
    "    \"\"\"\n",
    "\n",
    "    try:\n",
    "        summary_result = summarize(user_text)\n",
    "        print(\n",
    "            f\"Summarize() Snowflake Cortex LLM function result:\\n{summary_result.strip()}\\n\"\n",
    "        )\n",
    "\n",
    "        completion_result = complete(user_text)\n",
    "        print(\n",
    "            f\"Complete() Snowflake Cortex LLM function result:\\n{completion_result.strip()}\\n\"\n",
    "        )\n",
    "\n",
    "        answer_result = extract_answer(user_text)\n",
    "        print(\n",
    "            f\"ExtractAnswer() Snowflake Cortex LLM function result:\\n{answer_result}\\n\"\n",
    "        )\n",
    "\n",
    "        sentiment_result = sentiment(user_text)\n",
    "        print(\n",
    "            f\"Sentiment() Snowflake Cortex LLM function result:\\n{sentiment_result}\\n\"\n",
    "        )\n",
    "\n",
    "        translation_result = translate(user_text)\n",
    "        print(\n",
    "            f\"Translate() Snowflake Cortex LLM function result:\\n{translation_result.strip()}\\n\"\n",
    "        )\n",
    "\n",
    "    finally:\n",
    "        if snowflake_session:\n",
    "            # Close the Snowflake session\n",
    "            snowflake_session.close()"
   ]
  }
 ],
 "metadata": {
  "kernelspec": {
   "display_name": "snowflake",
   "language": "python",
   "name": "python3"
  },
  "language_info": {
   "codemirror_mode": {
    "name": "ipython",
    "version": 3
   },
   "file_extension": ".py",
   "mimetype": "text/x-python",
   "name": "python",
   "nbconvert_exporter": "python",
   "pygments_lexer": "ipython3",
   "version": "3.8.20"
  }
 },
 "nbformat": 4,
 "nbformat_minor": 2
}
