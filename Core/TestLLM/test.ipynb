{
 "cells": [
  {
   "cell_type": "code",
   "execution_count": 1,
   "metadata": {},
   "outputs": [
    {
     "name": "stderr",
     "output_type": "stream",
     "text": [
      "C:\\Users\\Administrator\\AppData\\Local\\Temp\\ipykernel_24704\\4275538447.py:3: DeprecationWarning: Python Runtime 3.8 reached its End-Of-Life (EOL) on October 14, 2024, there will be no further bug fixes or security updates for this runtime. We recommend that you upgrade your existing Python 3.8 objects to Python 3.9, 3.10 or 3.11 before March 31, 2025. Please note that end of support does not impact execution, and you will still be able to update and invoke existing objects. However, they will be running on an unsupported runtime which will no longer be maintained or patched by the Snowflake team. For more details, please refer to https://docs.snowflake.com/en/developer-guide/python-runtime-support-policy.\n",
      "  from snowflake.snowpark import Session\n"
     ]
    }
   ],
   "source": [
    "import os\n",
    "from dotenv import load_dotenv\n",
    "from snowflake.snowpark import Session\n",
    "from snowflake.cortex import Summarize, Complete, ExtractAnswer, Sentiment, Translate"
   ]
  },
  {
   "cell_type": "code",
   "execution_count": 2,
   "metadata": {},
   "outputs": [
    {
     "name": "stdout",
     "output_type": "stream",
     "text": [
      "{'account': 'fzfutqu-wob66434', 'user': 'iai24ares2', 'password': 'IAI24.ares'}\n"
     ]
    }
   ],
   "source": [
    "load_dotenv()\n",
    "\n",
    "connection_params = {\n",
    "    \"account\": os.environ[\"SNOWFLAKE_ACCOUNT\"],\n",
    "    \"user\": os.environ[\"SNOWFLAKE_USER\"],\n",
    "    \"password\": os.environ[\"SNOWFLAKE_USER_PASSWORD\"],\n",
    "}\n",
    "\n",
    "print(connection_params)\n",
    "\n",
    "snowflake_session = Session.builder.configs(connection_params).create()"
   ]
  },
  {
   "cell_type": "code",
   "execution_count": 3,
   "metadata": {},
   "outputs": [],
   "source": [
    "def summarize(user_text):\n",
    "    summary = Summarize(text=user_text, session=snowflake_session)\n",
    "    return summary"
   ]
  },
  {
   "cell_type": "code",
   "execution_count": 4,
   "metadata": {},
   "outputs": [],
   "source": [
    "def complete(user_text):\n",
    "    completion = Complete(\n",
    "        model=\"snowflake-arctic\",\n",
    "        prompt=f\"Provide 5 keywords from the following text: {user_text}\",\n",
    "        session=snowflake_session,\n",
    "    )\n",
    "    return completion"
   ]
  },
  {
   "cell_type": "code",
   "execution_count": 5,
   "metadata": {},
   "outputs": [],
   "source": [
    "def extract_answer(user_text):\n",
    "    answer = ExtractAnswer(\n",
    "        from_text=user_text,\n",
    "        question=\"What are some of the ethical concerns associated with the rapid development of AI?\",\n",
    "        session=snowflake_session,\n",
    "    )\n",
    "    return answer"
   ]
  },
  {
   "cell_type": "code",
   "execution_count": 6,
   "metadata": {},
   "outputs": [],
   "source": [
    "def sentiment(user_text):\n",
    "    sentiment = Sentiment(text=user_text, session=snowflake_session)\n",
    "    return sentiment"
   ]
  },
  {
   "cell_type": "code",
   "execution_count": 7,
   "metadata": {},
   "outputs": [],
   "source": [
    "def translate(user_text):\n",
    "    translation = Translate(\n",
    "        text=user_text, from_language=\"en\", to_language=\"de\", session=snowflake_session\n",
    "    )\n",
    "    return translation"
   ]
  },
  {
   "cell_type": "code",
   "execution_count": 8,
   "metadata": {},
   "outputs": [
    {
     "name": "stdout",
     "output_type": "stream",
     "text": [
      "Summarize() Snowflake Cortex LLM function result:\n",
      "Recent advancements in artificial intelligence are revolutionizing industries like healthcare and finance, enhancing efficiency and accuracy. However, ethical concerns such as data privacy, bias, and job displacement arise. Global competition in AI research and development is intensifying, requiring international cooperation and regulation. It's crucial to foster ethical AI practices and collaboration for maximum benefits.\n",
      "\n",
      "Complete() Snowflake Cortex LLM function result:\n",
      "1. Artificial Intelligence\n",
      "2. Advancements\n",
      "3. Revolutionized\n",
      "4. Industries\n",
      "5. Ethical Concerns\n",
      "\n",
      "ExtractAnswer() Snowflake Cortex LLM function result:\n",
      "[\n",
      "  {\n",
      "    \"answer\": \"data privacy, algorithmic bias, and the potential for job displacement\",\n",
      "    \"score\": 0.9978588\n",
      "  }\n",
      "]\n",
      "\n",
      "Sentiment() Snowflake Cortex LLM function result:\n",
      "0.5044461\n",
      "\n",
      "Translate() Snowflake Cortex LLM function result:\n",
      "Die jüngsten Fortschritte in der künstlichen Intelligenz haben verschiedene Branchen revolutioniert. Von der Gesundheitsversorgung bis hin zur Finanzbranche verbessern kI-gesteuerte Lösungen Effizienz und Genauigkeit. Im Gesundheitswesen wird kI eingesetzt, um Patientenergebnisse vorherzusagen, Behandlungspläne zu personalisieren und sogar bei Operationen zu unterstützen. Finanzinstitute nutzen kI, um betrügerische Aktivitäten zu erkennen, personalisierte Bankerlebnisse zu bieten und das Risikomanagement zu verbessern.\n",
      "\n",
      "Die schnelle Entwicklung von kI wirft jedoch auch ethische Bedenken auf. Themen wie Datenschutz, algorithmische Voreingenommenheit und die Gefahr von Arbeitsplatzverlusten werden intensiv diskutiert. Es ist entscheidend, sicherzustellen, dass kI-Technologien verantwortungsvoll entwickelt und eingesetzt werden, um ihre Vorteile zu maximieren und ihre Nachteile zu minimieren.\n",
      "\n",
      "Darüber hinaus verschärft sich der globale Wettlauf um die kI-Vorherrschaft. Länder und Unternehmen investieren massiv in kI-Forschung und -Entwicklung, um einen Wettbewerbsvorteil zu erlangen. Dieser Wettbewerb treibt Innovationen voran, unterstreicht aber auch die Notwendigkeit internationaler Zusammenarbeit und Regulierung.\n",
      "\n",
      "Zusammenfassend lässt sich sagen, dass kI ein enormes Potenzial hat, unsere Welt positiv zu verändern, es ist jedoch unerlässlich, die damit verbundenen Herausforderungen anzugehen. Durch die Förderung ethischer kI-Praktiken und die Förderung der Zusammenarbeit über Grenzen hinweg können wir die volle Kraft von kI für das Gemeinwohl nutzen.\n",
      "\n"
     ]
    }
   ],
   "source": [
    "user_text = \"\"\"\n",
    "        The recent advancements in artificial intelligence have revolutionized various industries. From healthcare to finance, AI-powered solutions are enhancing efficiency and accuracy. In healthcare, AI is being used to predict patient outcomes, personalize treatment plans, and even assist in surgeries. Financial institutions are leveraging AI to detect fraudulent activities, provide personalized banking experiences, and improve risk management.\n",
    "\n",
    "        However, the rapid development of AI also raises ethical concerns. Issues such as data privacy, algorithmic bias, and the potential for job displacement are being actively debated. Ensuring that AI technologies are developed and deployed responsibly is crucial for maximizing their benefits while minimizing their drawbacks.\n",
    "\n",
    "        Furthermore, the global race for AI supremacy is intensifying. Countries and corporations are investing heavily in AI research and development to gain a competitive edge. This competition is driving innovation but also highlighting the need for international cooperation and regulation.\n",
    "\n",
    "        In conclusion, while AI holds tremendous potential to transform our world positively, it is imperative to address the associated challenges. By fostering ethical AI practices and encouraging collaboration across borders, we can harness the full power of AI for the greater good.\n",
    "    \"\"\"\n",
    "\n",
    "try:\n",
    "    summary_result = summarize(user_text)\n",
    "    print(\n",
    "        f\"Summarize() Snowflake Cortex LLM function result:\\n{summary_result.strip()}\\n\"\n",
    "    )\n",
    "\n",
    "    completion_result = complete(user_text)\n",
    "    print(\n",
    "        f\"Complete() Snowflake Cortex LLM function result:\\n{completion_result.strip()}\\n\"\n",
    "    )\n",
    "\n",
    "    answer_result = extract_answer(user_text)\n",
    "    print(\n",
    "        f\"ExtractAnswer() Snowflake Cortex LLM function result:\\n{answer_result}\\n\"\n",
    "    )\n",
    "\n",
    "    sentiment_result = sentiment(user_text)\n",
    "    print(\n",
    "        f\"Sentiment() Snowflake Cortex LLM function result:\\n{sentiment_result}\\n\"\n",
    "    )\n",
    "\n",
    "\n",
    "    translation_result = translate(user_text)\n",
    "    print(\n",
    "        f\"Translate() Snowflake Cortex LLM function result:\\n{translation_result.strip()}\\n\"\n",
    "    )\n",
    "\n",
    "finally:\n",
    "    if snowflake_session:\n",
    "        # Close the Snowflake session\n",
    "        snowflake_session.close()"
   ]
  }
 ],
 "metadata": {
  "kernelspec": {
   "display_name": "snowflake",
   "language": "python",
   "name": "python3"
  },
  "language_info": {
   "codemirror_mode": {
    "name": "ipython",
    "version": 3
   },
   "file_extension": ".py",
   "mimetype": "text/x-python",
   "name": "python",
   "nbconvert_exporter": "python",
   "pygments_lexer": "ipython3",
   "version": "3.8.20"
  }
 },
 "nbformat": 4,
 "nbformat_minor": 2
}
