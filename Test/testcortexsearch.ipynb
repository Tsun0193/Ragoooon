{
 "cells": [
  {
   "cell_type": "code",
   "execution_count": 1,
   "metadata": {},
   "outputs": [
    {
     "name": "stderr",
     "output_type": "stream",
     "text": [
      "C:\\Users\\Administrator\\AppData\\Local\\Temp\\ipykernel_29372\\824325259.py:2: DeprecationWarning: Python Runtime 3.8 reached its End-Of-Life (EOL) on October 14, 2024, there will be no further bug fixes or security updates for this runtime. We recommend that you upgrade your existing Python 3.8 objects to Python 3.9, 3.10 or 3.11 before March 31, 2025. Please note that end of support does not impact execution, and you will still be able to update and invoke existing objects. However, they will be running on an unsupported runtime which will no longer be maintained or patched by the Snowflake team. For more details, please refer to https://docs.snowflake.com/en/developer-guide/python-runtime-support-policy.\n",
      "  from snowflake.snowpark.session import Session\n"
     ]
    }
   ],
   "source": [
    "from dotenv import load_dotenv\n",
    "from snowflake.snowpark.session import Session\n",
    "import os\n",
    "from snowflake.core import Root\n",
    "from typing import List"
   ]
  },
  {
   "cell_type": "code",
   "execution_count": 2,
   "metadata": {},
   "outputs": [],
   "source": [
    "load_dotenv(override=True)\n",
    "\n",
    "connection_params = {\n",
    "  \"account\":  os.environ[\"SNOWFLAKE_ACCOUNT\"],\n",
    "  \"user\": os.environ[\"SNOWFLAKE_USER\"],\n",
    "  \"password\": os.environ[\"SNOWFLAKE_USER_PASSWORD\"],\n",
    "  \"role\": os.environ[\"SNOWFLAKE_ROLE\"],\n",
    "  \"database\": os.environ[\"SNOWFLAKE_DATABASE\"],\n",
    "  \"schema\": os.environ[\"SNOWFLAKE_SCHEMA\"],\n",
    "  \"warehouse\": os.environ[\"SNOWFLAKE_WAREHOUSE\"],\n",
    "}\n",
    "\n",
    "snowpark_session = Session.builder.configs(connection_params).create()"
   ]
  },
  {
   "cell_type": "code",
   "execution_count": 3,
   "metadata": {},
   "outputs": [],
   "source": [
    "class CortexSearchRetriever:\n",
    "\n",
    "    def __init__(self, snowpark_session: Session, limit_to_retrieve: int = 4):\n",
    "        self._snowpark_session = snowpark_session\n",
    "        self._limit_to_retrieve = limit_to_retrieve\n",
    "\n",
    "    def retrieve(self, query: str) -> List[str]:\n",
    "        root = Root(self._snowpark_session)\n",
    "        cortex_search_service = (\n",
    "            root.databases[os.environ[\"SNOWFLAKE_DATABASE\"]]\n",
    "            .schemas[os.environ[\"SNOWFLAKE_SCHEMA\"]]\n",
    "            .cortex_search_services[os.environ[\"SNOWFLAKE_CORTEX_SEARCH_SERVICE\"]]\n",
    "        )\n",
    "        resp = cortex_search_service.search(\n",
    "            query=query,\n",
    "            columns=[\"NAME\", \"INFORMATION\"],\n",
    "            limit=self._limit_to_retrieve,\n",
    "        )\n",
    "\n",
    "        if resp.results:\n",
    "            return [curr[\"INFORMATION\"] for curr in resp.results]\n",
    "        else:\n",
    "            return []"
   ]
  },
  {
   "cell_type": "code",
   "execution_count": 4,
   "metadata": {},
   "outputs": [],
   "source": [
    "retriever = CortexSearchRetriever(snowpark_session=snowpark_session, limit_to_retrieve=4)"
   ]
  },
  {
   "cell_type": "code",
   "execution_count": 5,
   "metadata": {},
   "outputs": [
    {
     "name": "stdout",
     "output_type": "stream",
     "text": [
      "['The Cascades are a mountain range that stretches some 700 miles (1100 km) from British Columbia through central Washington into Oregon.  By causing moist Pacific air to drop rain and dry out as it blows into the continent, the Cascades divide Washington state into a wet west and an arid east.  The Cascades are tall -- several are above 10,000\\' (3000m) high, including Mount Baker in this region.  Because their valleys are low and the mountains quite steep, many mountains in the Cascades are visually quite striking.To the west from the Cascades to the coast are lowlands. Interstate 5 (I-5) runs north from Seattle to Vancouver, British Columbia. The Skagit Valley is fertile farmland, overflowing with tulips in the spring. Further north, Bellingham is the last US city before the Canadian border.The North Cascades region is made up of Chelan, Kittitas, Okanogan, Skagit, and Whatcom counties.  The term \"North Cascades\" sometimes means the mountain chain as far south as Mount Rainier.  The Cascades continue south in the Southwest Washington region, then into Oregon and northern California.. Mount Triumph north of Newhalem. Hiking, fishing, white water rafting, skiing, snowshoeing, boating. Applets and Cotlets', \"Mount Shuksan and Picture Lake in the North CascadesThis route generally follows WA-525 across Whidbey Island, the North Cascades Highway (WA-20) through North Cascades National Park, US-97 along the Columbia River Gorge, and the Stevens Pass Highway (US-2) back across the Cascade Mountains.The long and narrow Whidbey Island, the largest island along the West Coast of the US, shows you a different side of the Washington coast, without the development of the Seattle area but still easily accessible from it. The historical chokepoint for maritime access into Puget Sound, the island retains much of its history, small-town charm, and natural seascapes.The Skagit River is the largest watershed emptying into Puget Sound. In spite of three dams, the Skagit supports all five species of Pacific salmon and two anadromous (or sea-going) trout.Abundant rain and mild winters provide the perfect environment for trees in the Pacific Northwest to grow large. The old giants are long gone in most of the Northwest, but in the wilds of the North Cascades you can still find groves of old-growth that have never been cut.The North Cascade Mountains are still rising, shifting and forming. Unlike the rest of the Cascade Range, these mountains are a collage of terranes, distinct assemblages of rock, likely formed thousands of miles south as prehistoric island arcs (think Japan and Indonesia) in the Pacific Ocean. Colliding with the North American Continent, the drifting rock masses were thrust upwards and faulted laterally into a jumbled array of mountains. The north-south trending faults are still evident today. The North Cascades boast over 300 glaciers and countless snowfields, making them the most heavily-glaciated area in the United States outside of Alaska (more than Glacier National Park!).The mighty Columbia River is the largest river system in the western US. The unique setting of the river is due to floods of molten basalt from what is now the Yellowstone Hot Spot, followed by repeated mass floods at the end of the last ice age, when the collapse of huge ice dams near Missoula, Montana unleashed walls of water over 1000 feet high, carving distinctive canyons locally known as coulees. Today, the soils in the canyons and valleys where the plateau meets the foothills are the most productive anywhere, and are the source of Washington's most famous agricultural exports.. On the North Cascades Highway, there are no gas or services for 70 miles between Marblemount and Mazama.On the North Cascades Highway, there is poor or no cell phone coverage from Ross Lake to Mazama. If you need assistance, you'll have to flag someone down. Coverage is also spotty near Stevens Pass.. Seattle and Vancouver are the major cities near this route.For more time on the coast:San Juan Islands, the most immersive Salish Sea experience, can be reached by ferry from Anacortes.Olympic National Park, Washington's wildest space, can be reached from Whidbey Island or Seattle via ferry.Victoria, an island city with British charm.For more time in the mountains:Mount Baker ski resort, with the world record for largest snowfall.Whistler via the Sea-to-Sky Highway, up a pristine fjord to an Olympic-class ski resort.Mountains to Sound Greenway, the next mountain pass to the south.Trans-Canada Highway, the next mountain pass to the north.Mount Rainier National Park, the most imposing volcano in the continguous United States.For more time on the river:Richland and the Tri-Cities, with a pivotal role in nuclear history.Grand Coulee Dam, the largest hydroelectric producer in the country.Yakima Valley, where the hops in your favorite beer probably came from.\", '', ' The city was platted as \"Snoqualmie\" in 1889. The community later became known as Mountain View and finally, due to the location near the bend toward the North of the South Fork River, became the Town of \"North Bend\". The city was incorporated on March 12, 1909. It has since become a prosperous bedroom community for Seattle and Bellevue.North Bend became famous in the early 1990s, as the filming location for David Lynch\\'s cult-classic television series Twin Peaks. The steep and rocky Mount Si looms over the northeast edge of town (there is no \"twin\" peak), the most prominent of many popular hiking areas within several miles of town..  Snoqualmie — a neighbor with the impressive Snoqualmie Falls Issaquah — a nearby city with a historic main street and hiking opportunities Snoqualmie Pass — the closest ski resort to SeattleNorth Bend is on the Mountains to Sound Greenway, connecting to some of the best outdoor recreation in Washington.']\n"
     ]
    }
   ],
   "source": [
    "retrieved_context = retriever.retrieve(query=\"North Cascade\")\n",
    "print(retrieved_context)"
   ]
  },
  {
   "cell_type": "code",
   "execution_count": 6,
   "metadata": {},
   "outputs": [
    {
     "name": "stdout",
     "output_type": "stream",
     "text": [
      "4\n"
     ]
    }
   ],
   "source": [
    "print(len(retrieved_context))"
   ]
  },
  {
   "cell_type": "code",
   "execution_count": 7,
   "metadata": {},
   "outputs": [],
   "source": [
    "snowpark_session.close()"
   ]
  }
 ],
 "metadata": {
  "kernelspec": {
   "display_name": "snowflake",
   "language": "python",
   "name": "python3"
  },
  "language_info": {
   "codemirror_mode": {
    "name": "ipython",
    "version": 3
   },
   "file_extension": ".py",
   "mimetype": "text/x-python",
   "name": "python",
   "nbconvert_exporter": "python",
   "pygments_lexer": "ipython3",
   "version": "3.8.20"
  }
 },
 "nbformat": 4,
 "nbformat_minor": 2
}
